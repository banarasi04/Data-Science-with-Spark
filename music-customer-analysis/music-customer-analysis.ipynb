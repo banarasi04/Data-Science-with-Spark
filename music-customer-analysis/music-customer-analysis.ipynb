{
 "cells": [
  {
   "cell_type": "markdown",
   "metadata": {},
   "source": [
    "# Analyzing Customer-Music Data using Apache Spark\n",
    "\n",
    "The original Drill & Tableau based tutorial is at https://mapr.com/blog/real-time-user-profiles-spark-drill-and-mapr-db/. I have converted them to PySpark 2.2 Jupyter Notebooks. In additiona to that I have added many more Spark based Data Analysis sections, Side by Side Spark comparisons DF API and Spark SQL constructs to realize the same use case. Also used Jupyter Notebook for data visualization.\n",
    "\n",
    "A special section for working with RDDs is also included.\n",
    "\n",
    "Users are continuously connecting to the service and listening to tracks that they like -- this generates our main data set. The behaviors captured in these events, over time, represent the highest level of detail about actual behaviors of customers as they consume the service by listening to music. In addition to the events of listening to individual tracks, we have a few other data sets representing all the information we might normally have in such a service. In this post we will make use of the following three data sets."
   ]
  },
  {
   "cell_type": "markdown",
   "metadata": {},
   "source": [
    "**How to Configure Jupter Notebook to run Spark 2.2:**\n",
    "```\n",
    "1. Create an Anaconda environment 'pyspark'\n",
    "2. !pip install pyspark (this package will directly communicate with Spark)\n",
    "3. Install Spark in your machine (from here: https://spark.apache.org/downloads.html). I installed spark-2.2.0-bin-hadoop2.6.tgz\n",
    "4. In your .bash_profile set the following\n",
    "    export SPARK_HOME=/Users/anindyas/work/spark-2.2.0-bin-hadoop2.6\n",
    "    PATH=$SPARK_HOME/bin:$PATH\n",
    "    export PATH\n",
    "\n",
    "    export PATH=\"/Users/anindyas/anaconda/envs/pyspark/bin:$PATH\"\n",
    "    \n",
    "    There is further better way to set the environment variables for anaconda but for now it is fine.\n",
    "5. Switch to pyspark anaconda environment and start the jupyter notebook from that environment.\n",
    "```"
   ]
  },
  {
   "cell_type": "markdown",
   "metadata": {},
   "source": [
    "## 1. Understanding the Data Set\n",
    "\n",
    "**Individual customers listening to individual tracks: (tracks.csv)** - a collection of events, one per line, where each event is a client listening to a track.\n",
    "\n",
    "This data is approximately 1M lines and contains simulated listener events over several months.\n",
    "\n",
    "<table>\n",
    "  <tr>\n",
    "    <th><strong>Field Name</strong></th>\n",
    "    <th>Event ID</th>\n",
    "    <th>Customer ID</th>\n",
    "    <th>Track ID</th>\n",
    "    <th>Datetime</th>\n",
    "    <th>Mobile</th>\n",
    "    <th>Listening Zip</th>\n",
    "  </tr>\n",
    "  <tr>\n",
    "    <td><strong>Type</strong></td>\n",
    "    <td>Integer</td>\n",
    "    <td>Integer</td>\n",
    "    <td>Integer</td>\n",
    "    <td>String</td>\n",
    "    <td>Integer</td>\n",
    "    <td>Integer</td>\n",
    "  </tr>\n",
    "  <tr>\n",
    "    <td><strong>Example Value</strong></td>\n",
    "    <td>9999767</td>\n",
    "    <td>2597</td>\n",
    "    <td>788</td>\n",
    "    <td>2014-12-01 09:54:09</td>\n",
    "    <td>0</td>\n",
    "    <td>11003</td>\n",
    "  </tr>\n",
    "</table>\n",
    "\n",
    "The event, customer and track IDs tell us what occurred (a customer listened to a certain track), while the other fields tell us some associated information, like whether the customer was listening on a mobile device and a guess about their location while they were listening. With many customers listening to many tracks, this data can get very large and will be the input into our Spark job.\n",
    "\n",
    "**Customer information:** - information about individual customers.\n",
    "\n",
    "<table>\n",
    "  <tr>\n",
    "    <th><strong>Field Name</strong></th>\n",
    "    <th>Customer ID</th>\n",
    "    <th>Name</th>\n",
    "    <th>Gender</th>\n",
    "    <th>Address</th>\n",
    "    <th>ZIP</th>\n",
    "    <th>Sign Date</th>    \n",
    "    <th>Status</th>\n",
    "    <th>Level</th>\n",
    "    <th>Campaign</th>\n",
    "    <th>Linked with Apps?</th>\n",
    "  </tr>\n",
    "  <tr>\n",
    "    <td><strong>Type</strong></td>\n",
    "    <td>Integer</td>\n",
    "    <td>String</td>\n",
    "    <td>Integer</td>\n",
    "    <td>String</td>\n",
    "    <td>Integer</td>\n",
    "    <td>String</td>\n",
    "    <td>Integer</td>\n",
    "    <td>Integer</td>\n",
    "    <td>Integer</td>\n",
    "    <td>Integer</td>    \n",
    "  </tr>\n",
    "  <tr>\n",
    "    <td><strong>Example Value</strong></td>\n",
    "    <td>10</td>\n",
    "    <td>Joshua Threadgill</td>\n",
    "    <td>0</td>\n",
    "    <td>10084 Easy Gate Bend</td>\n",
    "    <td>66216</td>\n",
    "    <td>01/13/2013</td>\n",
    "    <td>0</td>\n",
    "    <td>1</td>\n",
    "    <td>1</td>\n",
    "    <td>1</td>\n",
    "  </tr>\n",
    "</table>\n",
    "\n",
    "\n",
    "The fields are defined as follows:\n",
    "```\n",
    "Customer ID: a unique identifier for that customer\n",
    "Name, gender, address, zip: the customer’s associated information\n",
    "Sign date: the date of addition to the service\n",
    "Status: indicates whether or not the account is active (0 = closed, 1 = active)\n",
    "Level: indicates what level of service -- 0, 1, 2 for Free, Silver and Gold, respectively\n",
    "Campaign: indicates the campaign under which the user joined, defined as the following (fictional) campaigns driven by our (also fictional) marketing team:\n",
    "NONE - no campaign\n",
    "30DAYFREE - a ‘30 days free’ trial offer\n",
    "SUPERBOWL - a Superbowl-related program\n",
    "RETAILSTORE - an offer originating in brick-and-mortar retail stores\n",
    "WEBOFFER - an offer for web-originated customers\n",
    "```\n",
    "\n",
    "**Previous ad clicks: (clicks.csv)** - a collection of user click events indicating which ad was played to the user and whether or not they clicked on it.\n",
    "\n",
    "<table>\n",
    "  <tr>\n",
    "    <th><strong>Field Name</strong></th>\n",
    "    <th><strong>EventID</strong></th>\n",
    "    <th>CustID</th>\n",
    "    <th>AdClicked</th>\n",
    "    <th>Localtime</th>\n",
    "  </tr>\n",
    "  <tr>\n",
    "    <td><strong>Type</strong></td>\n",
    "    <td>Integer</td>\n",
    "    <td>Integer</td>\n",
    "    <td>String</td>\n",
    "    <td>String</td>\n",
    "  </tr>\n",
    "  <tr>\n",
    "    <td><strong>Example Value</strong></td>\n",
    "    <td>0</td>\n",
    "    <td>109</td>\n",
    "    <td>ADV_FREE_REFERRAL</td>\n",
    "    <td>2014-12-01 09:54:09</td>\n",
    "  </tr>\n",
    "</table>\n",
    "\n",
    "The fields that interest us are the foreign key identifying the customer (CustID), a string indicating which ad they clicked (AdClicked), and the time when it happened (Localtime). Note that we could use a lot more features here, such as basic information about the customer (gender, etc.), but to keep things simple for the example we’ll leave that as a future exercise."
   ]
  },
  {
   "cell_type": "code",
   "execution_count": 1,
   "metadata": {
    "collapsed": true
   },
   "outputs": [],
   "source": [
    "import os\n",
    "import pandas as pd\n",
    "import numpy as np\n",
    "\n",
    "from pyspark import SparkConf, SparkContext\n",
    "from pyspark.sql import SparkSession, SQLContext\n",
    "\n",
    "from pyspark.sql.types import *\n",
    "import pyspark.sql.functions as F\n",
    "from pyspark.sql.functions import udf, col"
   ]
  },
  {
   "cell_type": "code",
   "execution_count": 2,
   "metadata": {
    "collapsed": true
   },
   "outputs": [],
   "source": [
    "# Visualization\n",
    "import seaborn as sns\n",
    "import matplotlib.pyplot as plt"
   ]
  },
  {
   "cell_type": "code",
   "execution_count": 3,
   "metadata": {
    "collapsed": true
   },
   "outputs": [],
   "source": [
    "# Visualization\n",
    "from IPython.core.interactiveshell import InteractiveShell\n",
    "InteractiveShell.ast_node_interactivity = \"all\"\n",
    "\n",
    "pd.set_option('display.max_columns', 50)\n",
    "pd.set_option('display.max_colwidth', 50)\n",
    "\n",
    "from matplotlib import rcParams\n",
    "sns.set(context='notebook', style='whitegrid', rc={'figure.figsize': (6,4)})\n",
    "rcParams['figure.figsize'] = 6,4\n",
    "\n",
    "# this allows plots to appear directly in the notebook\n",
    "%matplotlib inline\n",
    "%config InlineBackend.figure_format = 'retina'"
   ]
  },
  {
   "cell_type": "code",
   "execution_count": 4,
   "metadata": {
    "collapsed": true
   },
   "outputs": [],
   "source": [
    "# setting random seed for notebook reproducability\n",
    "rnd_seed=42\n",
    "np.random.seed=rnd_seed\n",
    "np.random.set_state=rnd_seed"
   ]
  },
  {
   "cell_type": "markdown",
   "metadata": {},
   "source": [
    "## 2. Creating the Spark Session"
   ]
  },
  {
   "cell_type": "code",
   "execution_count": 5,
   "metadata": {},
   "outputs": [
    {
     "data": {
      "text/plain": [
       "'D:\\\\Work\\\\spark-2.3.0-bin-hadoop2.7'"
      ]
     },
     "execution_count": 5,
     "metadata": {},
     "output_type": "execute_result"
    }
   ],
   "source": [
    "os.environ['SPARK_HOME']"
   ]
  },
  {
   "cell_type": "code",
   "execution_count": 6,
   "metadata": {
    "collapsed": true
   },
   "outputs": [],
   "source": [
    "spark = (SparkSession\n",
    "         .builder\n",
    "         .master(\"local[*]\")\n",
    "         .appName(\"music-customer-analysis\")\n",
    "         .getOrCreate())"
   ]
  },
  {
   "cell_type": "code",
   "execution_count": 7,
   "metadata": {},
   "outputs": [
    {
     "data": {
      "text/html": [
       "\n",
       "            <div>\n",
       "                <p><b>SparkSession - in-memory</b></p>\n",
       "                \n",
       "        <div>\n",
       "            <p><b>SparkContext</b></p>\n",
       "\n",
       "            <p><a href=\"http://MISHER:4042\">Spark UI</a></p>\n",
       "\n",
       "            <dl>\n",
       "              <dt>Version</dt>\n",
       "                <dd><code>v2.3.0</code></dd>\n",
       "              <dt>Master</dt>\n",
       "                <dd><code>local[*]</code></dd>\n",
       "              <dt>AppName</dt>\n",
       "                <dd><code>music-customer-analysis</code></dd>\n",
       "            </dl>\n",
       "        </div>\n",
       "        \n",
       "            </div>\n",
       "        "
      ],
      "text/plain": [
       "<pyspark.sql.session.SparkSession at 0x29a4d607780>"
      ]
     },
     "execution_count": 7,
     "metadata": {},
     "output_type": "execute_result"
    }
   ],
   "source": [
    "spark"
   ]
  },
  {
   "cell_type": "code",
   "execution_count": 8,
   "metadata": {},
   "outputs": [
    {
     "data": {
      "text/html": [
       "\n",
       "        <div>\n",
       "            <p><b>SparkContext</b></p>\n",
       "\n",
       "            <p><a href=\"http://MISHER:4042\">Spark UI</a></p>\n",
       "\n",
       "            <dl>\n",
       "              <dt>Version</dt>\n",
       "                <dd><code>v2.3.0</code></dd>\n",
       "              <dt>Master</dt>\n",
       "                <dd><code>local[*]</code></dd>\n",
       "              <dt>AppName</dt>\n",
       "                <dd><code>music-customer-analysis</code></dd>\n",
       "            </dl>\n",
       "        </div>\n",
       "        "
      ],
      "text/plain": [
       "<SparkContext master=local[*] appName=music-customer-analysis>"
      ]
     },
     "execution_count": 8,
     "metadata": {},
     "output_type": "execute_result"
    }
   ],
   "source": [
    "sc = spark.sparkContext\n",
    "sc"
   ]
  },
  {
   "cell_type": "code",
   "execution_count": 9,
   "metadata": {},
   "outputs": [
    {
     "data": {
      "text/plain": [
       "<pyspark.sql.context.SQLContext at 0x29a4d6114a8>"
      ]
     },
     "execution_count": 9,
     "metadata": {},
     "output_type": "execute_result"
    }
   ],
   "source": [
    "sqlContext = SQLContext(spark.sparkContext)\n",
    "sqlContext"
   ]
  },
  {
   "cell_type": "markdown",
   "metadata": {},
   "source": [
    "## 3. Load the data from files into DataFrames"
   ]
  },
  {
   "cell_type": "code",
   "execution_count": 10,
   "metadata": {
    "collapsed": true
   },
   "outputs": [],
   "source": [
    "MUSIC_TRACKS_DATA = 'data/tracks.csv'\n",
    "CUSTOMER_DATA     = 'data/cust.csv'\n",
    "CLICKS_DATA       = 'data/clicks.csv'"
   ]
  },
  {
   "cell_type": "code",
   "execution_count": 11,
   "metadata": {
    "collapsed": true
   },
   "outputs": [],
   "source": [
    "# define the schema, corresponding to a line in the csv data file for music\n",
    "music_schema = StructType([\n",
    "    StructField('event_id', IntegerType(), nullable=True),\n",
    "    StructField('customer_id', IntegerType(), nullable=True),\n",
    "    StructField('track_id', StringType(), nullable=True),\n",
    "    StructField('datetime', StringType(), nullable=True),\n",
    "    StructField('is_mobile', IntegerType(), nullable=True),\n",
    "    StructField('zip', IntegerType(), nullable=True)]\n",
    "  )"
   ]
  },
  {
   "cell_type": "code",
   "execution_count": 12,
   "metadata": {
    "collapsed": true
   },
   "outputs": [],
   "source": [
    "# define the schema, corresponding to a line in the csv data file for customer\n",
    "cust_schema = StructType([\n",
    "    StructField('customer_id', IntegerType(), nullable=True),\n",
    "    StructField('name', StringType(), nullable=True),\n",
    "    StructField('gender', IntegerType(), nullable=True),\n",
    "    StructField('address', StringType(), nullable=True),\n",
    "    StructField('zip', IntegerType(), nullable=True),\n",
    "    StructField('sign_date', StringType(), nullable=True),\n",
    "    StructField('status', IntegerType(), nullable=True),\n",
    "    StructField('level', IntegerType(), nullable=True),\n",
    "    StructField('campaign', IntegerType(), nullable=True),\n",
    "    StructField('lnkd_with_apps', IntegerType(), nullable=True)]\n",
    "  )"
   ]
  },
  {
   "cell_type": "code",
   "execution_count": 13,
   "metadata": {
    "collapsed": true
   },
   "outputs": [],
   "source": [
    "# define the schema, corresponding to a line in the csv data file for ad click\n",
    "click_schema = StructType([\n",
    "    StructField('event_id', IntegerType(), nullable=True),\n",
    "    StructField('customer_id', IntegerType(), nullable=True),\n",
    "    StructField('ad_clicked', IntegerType(), nullable=True),\n",
    "    StructField('datetime', StringType(), nullable=True)]\n",
    "  )"
   ]
  },
  {
   "cell_type": "code",
   "execution_count": 14,
   "metadata": {
    "collapsed": true
   },
   "outputs": [],
   "source": [
    "# Load data\n",
    "music_df = spark.read.csv(path=MUSIC_TRACKS_DATA, schema=music_schema).cache()\n",
    "music_df.createOrReplaceTempView(\"music\")\n",
    "\n",
    "cust_df = spark.read.csv(path=CUSTOMER_DATA, schema=cust_schema, header=True).cache()\n",
    "cust_df.createOrReplaceTempView(\"cust\")\n",
    "\n",
    "click_df = spark.read.csv(path=CUSTOMER_DATA, schema=cust_schema, header=True).cache()\n",
    "click_df.createOrReplaceTempView(\"click\")"
   ]
  },
  {
   "cell_type": "code",
   "execution_count": 15,
   "metadata": {},
   "outputs": [
    {
     "data": {
      "text/plain": [
       "1000000"
      ]
     },
     "execution_count": 15,
     "metadata": {},
     "output_type": "execute_result"
    }
   ],
   "source": [
    "# How many music data rows\n",
    "music_df.count()"
   ]
  },
  {
   "cell_type": "code",
   "execution_count": 16,
   "metadata": {},
   "outputs": [
    {
     "name": "stdout",
     "output_type": "stream",
     "text": [
      "+--------+-----------+--------+-------------------+---------+-----+\n",
      "|event_id|customer_id|track_id|           datetime|is_mobile|  zip|\n",
      "+--------+-----------+--------+-------------------+---------+-----+\n",
      "|       0|         48|     453|2014-10-23 03:26:20|        0|72132|\n",
      "|       1|       1081|      19|2014-10-15 18:32:14|        1|17307|\n",
      "|       2|        532|      36|2014-12-10 15:33:16|        1|66216|\n",
      "|       3|       2641|     822|2014-10-20 02:24:55|        1|36690|\n",
      "|       4|       2251|     338|2014-11-18 07:16:05|        1|61377|\n",
      "+--------+-----------+--------+-------------------+---------+-----+\n",
      "only showing top 5 rows\n",
      "\n"
     ]
    }
   ],
   "source": [
    "music_df.show(5)"
   ]
  },
  {
   "cell_type": "code",
   "execution_count": 17,
   "metadata": {},
   "outputs": [
    {
     "data": {
      "text/plain": [
       "5000"
      ]
     },
     "execution_count": 17,
     "metadata": {},
     "output_type": "execute_result"
    }
   ],
   "source": [
    "# How many customer data rows\n",
    "cust_df.count()"
   ]
  },
  {
   "cell_type": "code",
   "execution_count": 18,
   "metadata": {},
   "outputs": [
    {
     "name": "stdout",
     "output_type": "stream",
     "text": [
      "+-----------+-------------+------+--------------------+-----+----------+------+-----+--------+--------------+\n",
      "|customer_id|         name|gender|             address|  zip| sign_date|status|level|campaign|lnkd_with_apps|\n",
      "+-----------+-------------+------+--------------------+-----+----------+------+-----+--------+--------------+\n",
      "|          0|Gregory Koval|     0|13004 Easy Cider ...|72132|06/04/2013|     1|    1|       1|             0|\n",
      "|          1|Robert Gordon|     0|10497 Thunder Hic...|17307|07/27/2013|     1|    1|       1|             0|\n",
      "|          2|Paula Peltier|     0|10084 Easy Gate Bend|66216|01/13/2013|     1|    0|       4|             1|\n",
      "|          3|Francine Gray|     0|54845 Bent Pony H...|36690|07/11/2013|     1|    1|       1|             1|\n",
      "|          4| David Garcia|     0|8551 Tawny Fox Villa|61377|09/09/2012|     1|    0|       1|             1|\n",
      "+-----------+-------------+------+--------------------+-----+----------+------+-----+--------+--------------+\n",
      "only showing top 5 rows\n",
      "\n"
     ]
    }
   ],
   "source": [
    "cust_df.show(5)"
   ]
  },
  {
   "cell_type": "code",
   "execution_count": 19,
   "metadata": {},
   "outputs": [
    {
     "data": {
      "text/plain": [
       "5000"
      ]
     },
     "execution_count": 19,
     "metadata": {},
     "output_type": "execute_result"
    }
   ],
   "source": [
    "# How many ads click data rows\n",
    "click_df.count()"
   ]
  },
  {
   "cell_type": "markdown",
   "metadata": {},
   "source": [
    "## 4. Data Exploration"
   ]
  },
  {
   "cell_type": "markdown",
   "metadata": {},
   "source": [
    "### 4.1 Compute Hourly Summary profile of each customer:\n",
    "\n",
    "We will now see customers' listening behaviour across various hours in the day. Whether they tend to listen more in the morning or night, statistics like that."
   ]
  },
  {
   "cell_type": "markdown",
   "metadata": {},
   "source": [
    "**Add a new Hour Column to the Music data:**"
   ]
  },
  {
   "cell_type": "code",
   "execution_count": 20,
   "metadata": {
    "collapsed": true
   },
   "outputs": [],
   "source": [
    "hourly_music_df = music_df.withColumn('hour', F.hour('datetime')).cache()"
   ]
  },
  {
   "cell_type": "code",
   "execution_count": 21,
   "metadata": {},
   "outputs": [
    {
     "name": "stdout",
     "output_type": "stream",
     "text": [
      "+--------+-----------+--------+-------------------+---------+-----+----+\n",
      "|event_id|customer_id|track_id|           datetime|is_mobile|  zip|hour|\n",
      "+--------+-----------+--------+-------------------+---------+-----+----+\n",
      "|       0|         48|     453|2014-10-23 03:26:20|        0|72132|   3|\n",
      "|       1|       1081|      19|2014-10-15 18:32:14|        1|17307|  18|\n",
      "|       2|        532|      36|2014-12-10 15:33:16|        1|66216|  15|\n",
      "|       3|       2641|     822|2014-10-20 02:24:55|        1|36690|   2|\n",
      "|       4|       2251|     338|2014-11-18 07:16:05|        1|61377|   7|\n",
      "+--------+-----------+--------+-------------------+---------+-----+----+\n",
      "only showing top 5 rows\n",
      "\n"
     ]
    }
   ],
   "source": [
    "hourly_music_df.show(5)"
   ]
  },
  {
   "cell_type": "markdown",
   "metadata": {},
   "source": [
    "**Divide the entire day into four time buckets based on the hour:**  \n",
    "\n",
    "Bucket the listen datetime into different buckets in the day e.g. night, morning, afternoon or evening and mark 1 if the song is listened in that bucket."
   ]
  },
  {
   "cell_type": "code",
   "execution_count": 22,
   "metadata": {
    "collapsed": true
   },
   "outputs": [],
   "source": [
    "hourly_music_df = (hourly_music_df\n",
    "    .withColumn('night', F.when((col('hour') < 5) | (col('hour') == 23), 1).otherwise(0))\n",
    "    .withColumn('morn', F.when((col('hour') >= 5) & (col('hour') < 12), 1).otherwise(0))\n",
    "    .withColumn('aft', F.when((col('hour') >= 12) & (col('hour') < 17), 1).otherwise(0))\n",
    "    .withColumn('eve', F.when((col('hour') >= 17) & (col('hour') < 22), 1).otherwise(0))\n",
    "    .cache())"
   ]
  },
  {
   "cell_type": "markdown",
   "metadata": {},
   "source": [
    "### 4.1.1 Compute Customer Hourly Summary using DF API:\n",
    "\n",
    "Now we're ready to compute a summary profile for each user. We will leverage PySpark SQL functions compute some high-level data:\n",
    "\n",
    "+ Average number of tracks listened during each period of the day: morning, afternoon, evening, and night. We arbitrarily define the time ranges in the code.\n",
    "+ Total unique tracks listened by that user, i.e. the set of unique track IDs.\n",
    "+ Total mobile tracks listened by that user, i.e. the count of tracks that were listened that had their mobile flag set."
   ]
  },
  {
   "cell_type": "code",
   "execution_count": 23,
   "metadata": {
    "collapsed": true
   },
   "outputs": [],
   "source": [
    "cust_profile_df = (hourly_music_df.select(['customer_id', 'track_id', 'night', 'morn', 'aft', 'eve', 'is_mobile'])\n",
    "     .groupBy('customer_id')\n",
    "     .agg(F.countDistinct('track_id'), F.sum('night'), F.sum('morn'), F.sum('aft'), F.sum('eve'), F.sum('is_mobile'))).cache()"
   ]
  },
  {
   "cell_type": "code",
   "execution_count": 24,
   "metadata": {
    "scrolled": false
   },
   "outputs": [
    {
     "name": "stdout",
     "output_type": "stream",
     "text": [
      "+-----------+------------------------+----------+---------+--------+--------+--------------+\n",
      "|customer_id|count(DISTINCT track_id)|sum(night)|sum(morn)|sum(aft)|sum(eve)|sum(is_mobile)|\n",
      "+-----------+------------------------+----------+---------+--------+--------+--------------+\n",
      "|        148|                     443|       134|      170|     109|     124|           476|\n",
      "|        463|                     306|        94|       99|      84|      76|           176|\n",
      "|       1591|                     171|        40|       64|      36|      40|            85|\n",
      "|       2366|                     143|        48|       46|      30|      25|           113|\n",
      "|       4101|                     100|        25|       28|      26|      22|            85|\n",
      "|       1342|                     173|        46|       60|      36|      42|           102|\n",
      "|       2659|                     119|        36|       43|      22|      22|            59|\n",
      "|       1238|                     191|        54|       64|      30|      46|           158|\n",
      "|       4519|                     103|        34|       30|      20|      20|            54|\n",
      "|       1580|                     162|        37|       52|      43|      41|           134|\n",
      "+-----------+------------------------+----------+---------+--------+--------+--------------+\n",
      "only showing top 10 rows\n",
      "\n"
     ]
    }
   ],
   "source": [
    "cust_profile_df.show(10)"
   ]
  },
  {
   "cell_type": "markdown",
   "metadata": {},
   "source": [
    "### 4.1.2 Compute Customer Hourly Summary using SQL:\n",
    "\n",
    "In the previous sections we used only DF APIs to calculate the hourly profiles. However, we can use pure Spark SQL to achieve the same results. That would be much less verbose. We will still leverage PySpark SQL functions compute those high-level data:\n",
    "\n",
    "+ Average number of tracks listened during each period of the day: morning, afternoon, evening, and night. We arbitrarily define the time ranges in the code.\n",
    "+ Total unique tracks listened by that user, i.e. the set of unique track IDs.\n",
    "+ Total mobile tracks listened by that user, i.e. the count of tracks that were listened that had their mobile flag set."
   ]
  },
  {
   "cell_type": "markdown",
   "metadata": {},
   "source": [
    "**Divide the entire day into four time buckets based on the hour:**  \n",
    "\n",
    "Bucket the listen datetime into different buckets in the day e.g. night, morning, afternoon or evening and mark 1 if the song is listened in that bucket."
   ]
  },
  {
   "cell_type": "code",
   "execution_count": 25,
   "metadata": {},
   "outputs": [
    {
     "name": "stdout",
     "output_type": "stream",
     "text": [
      "+--------+-----------+--------+-------------------+---------+-----+----+-----+----+---+---+\n",
      "|event_id|customer_id|track_id|           datetime|is_mobile|  zip|hour|night|morn|aft|eve|\n",
      "+--------+-----------+--------+-------------------+---------+-----+----+-----+----+---+---+\n",
      "|       0|         48|     453|2014-10-23 03:26:20|        0|72132|   3|    1|   0|  0|  0|\n",
      "|       1|       1081|      19|2014-10-15 18:32:14|        1|17307|  18|    0|   0|  0|  1|\n",
      "|       2|        532|      36|2014-12-10 15:33:16|        1|66216|  15|    0|   0|  1|  0|\n",
      "|       3|       2641|     822|2014-10-20 02:24:55|        1|36690|   2|    1|   0|  0|  0|\n",
      "|       4|       2251|     338|2014-11-18 07:16:05|        1|61377|   7|    0|   1|  0|  0|\n",
      "|       5|       1811|       6|2014-11-18 02:00:48|        1|20115|   2|    1|   0|  0|  0|\n",
      "|       6|       3644|      24|2014-12-12 15:24:02|        1|15330|  15|    0|   0|  1|  0|\n",
      "|       7|        250|     726|2014-10-07 09:48:53|        0|33570|   9|    0|   1|  0|  0|\n",
      "|       8|       1782|     442|2014-12-30 15:27:31|        1|41240|  15|    0|   0|  1|  0|\n",
      "|       9|       2932|     775|2014-11-12 07:45:55|        0|63565|   7|    0|   1|  0|  0|\n",
      "+--------+-----------+--------+-------------------+---------+-----+----+-----+----+---+---+\n",
      "only showing top 10 rows\n",
      "\n"
     ]
    }
   ],
   "source": [
    "spark.sql(\n",
    "\"\"\"\n",
    "SELECT  *, \n",
    "        HOUR(datetime) as hour, \n",
    "        CASE WHEN HOUR(datetime) < 5 OR HOUR(datetime) = 23 THEN 1 ELSE 0 END AS night,\n",
    "        CASE WHEN HOUR(datetime) >= 5 AND HOUR(datetime) < 12 THEN 1 ELSE 0 END AS morn,\n",
    "        CASE WHEN HOUR(datetime) >= 12 AND HOUR(datetime) < 17 THEN 1 ELSE 0 END AS aft,\n",
    "        CASE WHEN HOUR(datetime) >= 17 AND HOUR(datetime) < 22 THEN 1 ELSE 0 END AS eve\n",
    "FROM music\n",
    "\"\"\").show(10)"
   ]
  },
  {
   "cell_type": "markdown",
   "metadata": {},
   "source": [
    "**Compute the hourly profiles:**  \n",
    "\n",
    "We can combine the above bucketing and calculating the hourly summary in one SQL as follows."
   ]
  },
  {
   "cell_type": "code",
   "execution_count": 26,
   "metadata": {},
   "outputs": [
    {
     "name": "stdout",
     "output_type": "stream",
     "text": [
      "+-----------+------------------------+----------+---------+--------+--------+--------------+\n",
      "|customer_id|count(DISTINCT track_id)|sum(night)|sum(morn)|sum(aft)|sum(eve)|sum(is_mobile)|\n",
      "+-----------+------------------------+----------+---------+--------+--------+--------------+\n",
      "|        148|                     443|       134|      170|     109|     124|           476|\n",
      "|        463|                     306|        94|       99|      84|      76|           176|\n",
      "|       1591|                     171|        40|       64|      36|      40|            85|\n",
      "|       2366|                     143|        48|       46|      30|      25|           113|\n",
      "|       4101|                     100|        25|       28|      26|      22|            85|\n",
      "|       1342|                     173|        46|       60|      36|      42|           102|\n",
      "|       2659|                     119|        36|       43|      22|      22|            59|\n",
      "|       1238|                     191|        54|       64|      30|      46|           158|\n",
      "|       4519|                     103|        34|       30|      20|      20|            54|\n",
      "|       1580|                     162|        37|       52|      43|      41|           134|\n",
      "+-----------+------------------------+----------+---------+--------+--------+--------------+\n",
      "only showing top 10 rows\n",
      "\n"
     ]
    }
   ],
   "source": [
    "spark.sql(\n",
    "\"\"\"\n",
    "SELECT customer_id, COUNT(distinct track_id), SUM(night), SUM(morn), SUM(aft), SUM(eve), SUM(is_mobile) \n",
    "FROM(\n",
    "    SELECT  *, \n",
    "            HOUR(datetime) as hour, \n",
    "            CASE WHEN HOUR(datetime) < 5 OR HOUR(datetime) = 23 THEN 1 ELSE 0 END AS night,\n",
    "            CASE WHEN HOUR(datetime) >= 5 AND HOUR(datetime) < 12 THEN 1 ELSE 0 END AS morn,\n",
    "            CASE WHEN HOUR(datetime) >= 12 AND HOUR(datetime) < 17 THEN 1 ELSE 0 END AS aft,\n",
    "            CASE WHEN HOUR(datetime) >= 17 AND HOUR(datetime) < 22 THEN 1 ELSE 0 END AS eve\n",
    "    FROM music)\n",
    "GROUP BY customer_id\n",
    "\"\"\").show(10)"
   ]
  },
  {
   "cell_type": "markdown",
   "metadata": {},
   "source": [
    "We can see the result is same as the results form the DF APIs."
   ]
  },
  {
   "cell_type": "markdown",
   "metadata": {},
   "source": [
    "### 4.2 Summary Statistics:\n",
    "\n",
    "Since we have the summary data readily available we compute some basic statistics on it."
   ]
  },
  {
   "cell_type": "code",
   "execution_count": 27,
   "metadata": {},
   "outputs": [
    {
     "name": "stdout",
     "output_type": "stream",
     "text": [
      "+-------+------------------------+-----------------+----------------+-----------------+-----------------+------------------+\n",
      "|summary|count(DISTINCT track_id)|       sum(night)|       sum(morn)|         sum(aft)|         sum(eve)|    sum(is_mobile)|\n",
      "+-------+------------------------+-----------------+----------------+-----------------+-----------------+------------------+\n",
      "|  count|                    5000|             5000|            5000|             5000|             5000|              5000|\n",
      "|   mean|                 170.295|          50.0036|         58.2908|          41.6434|          41.7626|           121.553|\n",
      "| stddev|      117.04437556828793|57.94717906984283|67.3964412370437|47.87538247251274|48.01370329792189|148.79537090743347|\n",
      "|    min|                      68|               12|              16|                9|                9|                32|\n",
      "|    max|                    1617|             1843|            2007|             1460|             1480|              5093|\n",
      "+-------+------------------------+-----------------+----------------+-----------------+-----------------+------------------+\n",
      "\n"
     ]
    }
   ],
   "source": [
    "# Referring to cust_profile_df from section 4.1.1 we can use the describe() function to get the summary statistics\n",
    "cust_profile_df.select([c for c in cust_profile_df.columns if c not in ['customer_id']]).describe().show()"
   ]
  },
  {
   "cell_type": "code",
   "execution_count": 28,
   "metadata": {
    "collapsed": true
   },
   "outputs": [],
   "source": [
    "# store the describe dataframe temporarily\n",
    "summary_stats_df = cust_profile_df.select([c for c in cust_profile_df.columns if c not in ['customer_id']]).describe()"
   ]
  },
  {
   "cell_type": "markdown",
   "metadata": {},
   "source": [
    "#### 4.2.1 Prettifying Summary Statistics:\n",
    "\n",
    "There are too many decimal places for mean and stddev in the describe() dataframe. We can format the numbers to just show up to two decimal places. Pay careful attention to the datatypes that describe() returns, its a String, we need to cast that to a float before we can format. We use cast() and format_number() on individual columns to reformat."
   ]
  },
  {
   "cell_type": "code",
   "execution_count": 29,
   "metadata": {
    "scrolled": true
   },
   "outputs": [
    {
     "name": "stdout",
     "output_type": "stream",
     "text": [
      "+-------+------------------------+----------+---------+--------+--------------+\n",
      "|summary|count(DISTINCT track_id)|sum(night)|sum(morn)|sum(aft)|sum(is_mobile)|\n",
      "+-------+------------------------+----------+---------+--------+--------------+\n",
      "|  count|                5,000.00|  5,000.00| 5,000.00|5,000.00|      5,000.00|\n",
      "|   mean|                  170.29|     50.00|    58.29|   41.64|        121.55|\n",
      "| stddev|                  117.04|     57.95|    67.40|   47.88|        148.80|\n",
      "|    min|                   68.00|     12.00|    16.00|    9.00|         32.00|\n",
      "|    max|                1,617.00|  1,843.00| 2,007.00|1,460.00|      5,093.00|\n",
      "+-------+------------------------+----------+---------+--------+--------------+\n",
      "\n"
     ]
    }
   ],
   "source": [
    "summary_stats_df.select(summary_stats_df['summary'], \n",
    "            F.format_number(summary_stats_df['count(DISTINCT track_id)'].cast('float'), 2).alias('count(DISTINCT track_id)'), \n",
    "            F.format_number(summary_stats_df['sum(night)'].cast('float'), 2).alias('sum(night)'),\n",
    "            F.format_number(summary_stats_df['sum(morn)'].cast('float'), 2).alias('sum(morn)'), \n",
    "            F.format_number(summary_stats_df['sum(aft)'].cast('float'), 2).alias('sum(aft)'),\n",
    "            F.format_number(summary_stats_df['sum(is_mobile)'].cast('float'), 2).alias('sum(is_mobile)')).show()"
   ]
  },
  {
   "cell_type": "markdown",
   "metadata": {},
   "source": [
    "#### 4.2.2 Prettifying Summary Statistics - Even Smarter:\n",
    "\n",
    "In real life data sets there would be too many columns. Specifying each columm in the codes would not be feasible. We can use list comprehension of Python of for loops to do this smartly. We can even exclude some columns we dont' want."
   ]
  },
  {
   "cell_type": "code",
   "execution_count": 30,
   "metadata": {
    "collapsed": true
   },
   "outputs": [],
   "source": [
    "# store the describe dataframe temporarily\n",
    "summary_stats_df = cust_profile_df.select([c for c in cust_profile_df.columns if c not in ['customer_id']]).describe()"
   ]
  },
  {
   "cell_type": "code",
   "execution_count": 31,
   "metadata": {},
   "outputs": [
    {
     "name": "stdout",
     "output_type": "stream",
     "text": [
      "+-------+------------------------+-----------------+----------------+-----------------+-----------------+------------------+\n",
      "|summary|count(DISTINCT track_id)|       sum(night)|       sum(morn)|         sum(aft)|         sum(eve)|    sum(is_mobile)|\n",
      "+-------+------------------------+-----------------+----------------+-----------------+-----------------+------------------+\n",
      "|  count|                    5000|             5000|            5000|             5000|             5000|              5000|\n",
      "|   mean|                 170.295|          50.0036|         58.2908|          41.6434|          41.7626|           121.553|\n",
      "| stddev|      117.04437556828793|57.94717906984283|67.3964412370437|47.87538247251274|48.01370329792189|148.79537090743347|\n",
      "|    min|                      68|               12|              16|                9|                9|                32|\n",
      "|    max|                    1617|             1843|            2007|             1460|             1480|              5093|\n",
      "+-------+------------------------+-----------------+----------------+-----------------+-----------------+------------------+\n",
      "\n"
     ]
    }
   ],
   "source": [
    "# let's view that once more\n",
    "summary_stats_df.show()"
   ]
  },
  {
   "cell_type": "markdown",
   "metadata": {},
   "source": [
    "**Apply for loop on formatting columns and excluding the summary column:**"
   ]
  },
  {
   "cell_type": "code",
   "execution_count": 32,
   "metadata": {
    "collapsed": true
   },
   "outputs": [],
   "source": [
    "# loop over the column names and format\n",
    "for col_name in summary_stats_df.columns:\n",
    "    if col_name not in ['summary']:\n",
    "        summary_stats_df = summary_stats_df.withColumn(col_name, F.format_number(col(col_name).cast('float'), 2))"
   ]
  },
  {
   "cell_type": "code",
   "execution_count": 33,
   "metadata": {},
   "outputs": [
    {
     "name": "stdout",
     "output_type": "stream",
     "text": [
      "+-------+------------------------+----------+---------+--------+--------+--------------+\n",
      "|summary|count(DISTINCT track_id)|sum(night)|sum(morn)|sum(aft)|sum(eve)|sum(is_mobile)|\n",
      "+-------+------------------------+----------+---------+--------+--------+--------------+\n",
      "|  count|                5,000.00|  5,000.00| 5,000.00|5,000.00|5,000.00|      5,000.00|\n",
      "|   mean|                  170.29|     50.00|    58.29|   41.64|   41.76|        121.55|\n",
      "| stddev|                  117.04|     57.95|    67.40|   47.88|   48.01|        148.80|\n",
      "|    min|                   68.00|     12.00|    16.00|    9.00|    9.00|         32.00|\n",
      "|    max|                1,617.00|  1,843.00| 2,007.00|1,460.00|1,480.00|      5,093.00|\n",
      "+-------+------------------------+----------+---------+--------+--------+--------------+\n",
      "\n"
     ]
    }
   ],
   "source": [
    "summary_stats_df.show()"
   ]
  },
  {
   "cell_type": "markdown",
   "metadata": {},
   "source": [
    "Interpreting the summary statistics:\n",
    "> People Listen to highest number of songs in the Night!"
   ]
  },
  {
   "cell_type": "markdown",
   "metadata": {},
   "source": [
    "### 4.3 An ODE to RDD - Compute Customer Hourly Summary using Custom Group Function:\n",
    "\n",
    "If you and must have to work with RDD instead of DataFrames, then we can compute a summary profile for each user by passing a function we'll write to mapValues to compute the same high-level data:\n",
    "\n",
    "+ Average number of tracks listened during each period of the day: morning, afternoon, evening, and night. We arbitrarily define the time ranges in the code.\n",
    "+ Total unique tracks listened by that user, i.e. the set of unique track IDs.\n",
    "+ Total mobile tracks listened by that user, i.e. the count of tracks that were listened that had their mobile flag set."
   ]
  },
  {
   "cell_type": "code",
   "execution_count": 34,
   "metadata": {
    "collapsed": true
   },
   "outputs": [],
   "source": [
    "# lets select only the original columns \n",
    "music_rdd = music_df.select('customer_id', 'track_id', 'datetime', 'is_mobile', 'zip').rdd.cache()"
   ]
  },
  {
   "cell_type": "code",
   "execution_count": 36,
   "metadata": {},
   "outputs": [
    {
     "data": {
      "text/plain": [
       "[Row(customer_id=48, track_id='453', datetime='2014-10-23 03:26:20', is_mobile=0, zip=72132),\n",
       " Row(customer_id=1081, track_id='19', datetime='2014-10-15 18:32:14', is_mobile=1, zip=17307),\n",
       " Row(customer_id=532, track_id='36', datetime='2014-12-10 15:33:16', is_mobile=1, zip=66216),\n",
       " Row(customer_id=2641, track_id='822', datetime='2014-10-20 02:24:55', is_mobile=1, zip=36690),\n",
       " Row(customer_id=2251, track_id='338', datetime='2014-11-18 07:16:05', is_mobile=1, zip=61377)]"
      ]
     },
     "execution_count": 36,
     "metadata": {},
     "output_type": "execute_result"
    }
   ],
   "source": [
    "music_rdd.take(5)"
   ]
  },
  {
   "cell_type": "markdown",
   "metadata": {},
   "source": [
    "**Use customer_id as the key:**"
   ]
  },
  {
   "cell_type": "code",
   "execution_count": 37,
   "metadata": {},
   "outputs": [
    {
     "data": {
      "text/plain": [
       "[(48,\n",
       "  Row(customer_id=48, track_id='453', datetime='2014-10-23 03:26:20', is_mobile=0, zip=72132)),\n",
       " (1081,\n",
       "  Row(customer_id=1081, track_id='19', datetime='2014-10-15 18:32:14', is_mobile=1, zip=17307)),\n",
       " (532,\n",
       "  Row(customer_id=532, track_id='36', datetime='2014-12-10 15:33:16', is_mobile=1, zip=66216)),\n",
       " (2641,\n",
       "  Row(customer_id=2641, track_id='822', datetime='2014-10-20 02:24:55', is_mobile=1, zip=36690)),\n",
       " (2251,\n",
       "  Row(customer_id=2251, track_id='338', datetime='2014-11-18 07:16:05', is_mobile=1, zip=61377))]"
      ]
     },
     "execution_count": 37,
     "metadata": {},
     "output_type": "execute_result"
    }
   ],
   "source": [
    "# Use customer_id as the key, we will later group by on this column\n",
    "music_rdd.map(lambda record : (record.customer_id, record)).take(5)"
   ]
  },
  {
   "cell_type": "markdown",
   "metadata": {},
   "source": [
    "**Develop the User Stats function:**\n",
    "\n",
    "We loop over the tracks of each customer and find the unique number of tracks listened by him and how many times he listened during various times of the day."
   ]
  },
  {
   "cell_type": "code",
   "execution_count": 38,
   "metadata": {
    "collapsed": true
   },
   "outputs": [],
   "source": [
    "def compute_stats_byuser(tracks):\n",
    "    mcount = morn = aft = eve = night = 0\n",
    "    tracklist = []\n",
    "    for t in tracks:\n",
    "        custid, trackid, dtime, mobile, zip = t\n",
    "        if trackid not in tracklist:\n",
    "            tracklist.append(trackid)\n",
    "        d, t = dtime.split(\" \")\n",
    "        hourofday = int(t.split(\":\")[0])\n",
    "        mcount += mobile\n",
    "        if (hourofday < 5):\n",
    "            night += 1\n",
    "        elif (hourofday < 12):\n",
    "            morn += 1\n",
    "        elif (hourofday < 17):\n",
    "            aft += 1\n",
    "        elif (hourofday < 22):\n",
    "            eve += 1\n",
    "        else:\n",
    "            night += 1\n",
    "    return len(tracklist), morn, aft, eve, night, mcount"
   ]
  },
  {
   "cell_type": "code",
   "execution_count": 39,
   "metadata": {
    "collapsed": true
   },
   "outputs": [],
   "source": [
    "cust_profile_rdd = (music_rdd.map(lambda record : (record.customer_id, record))\n",
    "                    .groupByKey().mapValues(lambda tracks: compute_stats_byuser(tracks)))"
   ]
  },
  {
   "cell_type": "code",
   "execution_count": 40,
   "metadata": {},
   "outputs": [
    {
     "data": {
      "text/plain": [
       "PythonRDD[122] at RDD at PythonRDD.scala:48"
      ]
     },
     "execution_count": 40,
     "metadata": {},
     "output_type": "execute_result"
    }
   ],
   "source": [
    "cust_profile_rdd.cache()"
   ]
  },
  {
   "cell_type": "code",
   "execution_count": 41,
   "metadata": {},
   "outputs": [
    {
     "data": {
      "text/plain": [
       "[(0, (1617, 2007, 1460, 1480, 2139, 5093)),\n",
       " (1024, (204, 63, 56, 53, 58, 110)),\n",
       " (3512, (101, 23, 22, 30, 32, 84)),\n",
       " (4944, (97, 31, 18, 19, 34, 84)),\n",
       " (8, (1140, 646, 511, 468, 686, 1651)),\n",
       " (648, (284, 101, 56, 80, 94, 165)),\n",
       " (2728, (122, 41, 19, 29, 45, 64)),\n",
       " (4808, (94, 26, 22, 20, 29, 72)),\n",
       " (3160, (111, 29, 27, 28, 38, 61)),\n",
       " (3376, (117, 27, 26, 35, 34, 95))]"
      ]
     },
     "execution_count": 41,
     "metadata": {},
     "output_type": "execute_result"
    }
   ],
   "source": [
    "cust_profile_rdd.take(10)"
   ]
  },
  {
   "cell_type": "markdown",
   "metadata": {},
   "source": [
    "**Compare the Results that we got from RDD and previously from DF methods:**"
   ]
  },
  {
   "cell_type": "code",
   "execution_count": 42,
   "metadata": {},
   "outputs": [
    {
     "data": {
      "text/plain": [
       "[(48, (696, 310, 217, 223, 277, 503))]"
      ]
     },
     "execution_count": 42,
     "metadata": {},
     "output_type": "execute_result"
    }
   ],
   "source": [
    "cust_profile_rdd.filter(lambda record: record[0] ==48).take(1)"
   ]
  },
  {
   "cell_type": "code",
   "execution_count": 43,
   "metadata": {},
   "outputs": [
    {
     "name": "stdout",
     "output_type": "stream",
     "text": [
      "+-----------+------------------------+----------+---------+--------+--------+--------------+\n",
      "|customer_id|count(DISTINCT track_id)|sum(night)|sum(morn)|sum(aft)|sum(eve)|sum(is_mobile)|\n",
      "+-----------+------------------------+----------+---------+--------+--------+--------------+\n",
      "|         48|                     696|       239|      310|     217|     223|           503|\n",
      "+-----------+------------------------+----------+---------+--------+--------+--------------+\n",
      "\n"
     ]
    }
   ],
   "source": [
    "cust_profile_df.filter(col('customer_id') == 48).show()"
   ]
  },
  {
   "cell_type": "markdown",
   "metadata": {},
   "source": [
    "**Woo Hoo!** We can clearly see that the values in each of the columns are matching! We are on the right track!"
   ]
  },
  {
   "cell_type": "markdown",
   "metadata": {},
   "source": [
    "**Summary Statistics:**\n",
    "\n",
    "Since we have the summary data readily available we compute some basic statistics on it. Since we are working on the RDD we cannot use the `describe()` method of the DataFrame. Instead we will use the `Statistics` package  for the `colStats` function from `pyspark.mllib.stat`."
   ]
  },
  {
   "cell_type": "code",
   "execution_count": 44,
   "metadata": {
    "collapsed": true
   },
   "outputs": [],
   "source": [
    "from pyspark.mllib.stat import Statistics "
   ]
  },
  {
   "cell_type": "code",
   "execution_count": 45,
   "metadata": {
    "collapsed": true
   },
   "outputs": [],
   "source": [
    "# compute aggregate stats for entire track history  \n",
    "summary_stats_ml = Statistics.colStats(cust_profile_rdd.map(lambda x: x[1]))  "
   ]
  },
  {
   "cell_type": "code",
   "execution_count": 46,
   "metadata": {},
   "outputs": [
    {
     "data": {
      "text/plain": [
       "5000"
      ]
     },
     "execution_count": 46,
     "metadata": {},
     "output_type": "execute_result"
    }
   ],
   "source": [
    "summary_stats_ml.count()"
   ]
  },
  {
   "cell_type": "code",
   "execution_count": 47,
   "metadata": {},
   "outputs": [
    {
     "data": {
      "text/plain": [
       "array([ 170.295 ,   58.2908,   41.6434,   41.7626,   58.3032,  121.553 ])"
      ]
     },
     "execution_count": 47,
     "metadata": {},
     "output_type": "execute_result"
    }
   ],
   "source": [
    "summary_stats_ml.mean()"
   ]
  },
  {
   "cell_type": "code",
   "execution_count": 48,
   "metadata": {},
   "outputs": [
    {
     "data": {
      "text/plain": [
       "array([ 1617.,  2007.,  1460.,  1480.,  2139.,  5093.])"
      ]
     },
     "execution_count": 48,
     "metadata": {},
     "output_type": "execute_result"
    }
   ],
   "source": [
    "summary_stats_ml.max()"
   ]
  },
  {
   "cell_type": "code",
   "execution_count": 49,
   "metadata": {},
   "outputs": [
    {
     "data": {
      "text/plain": [
       "array([ 68.,  16.,   9.,   9.,  15.,  32.])"
      ]
     },
     "execution_count": 49,
     "metadata": {},
     "output_type": "execute_result"
    }
   ],
   "source": [
    "summary_stats_ml.min()"
   ]
  },
  {
   "cell_type": "markdown",
   "metadata": {},
   "source": [
    "### 4.4 PIVOT Tables With Multiples WHENs - Compute Customer Hourly Summary\n",
    "\n",
    "If you intend to venture on using more advanced functions in Spark, then we can use the `pivot` function to do whate we have done doe now in much shorter steps."
   ]
  },
  {
   "cell_type": "code",
   "execution_count": 50,
   "metadata": {},
   "outputs": [
    {
     "name": "stdout",
     "output_type": "stream",
     "text": [
      "+--------+-----------+--------+-------------------+---------+-----+----+\n",
      "|event_id|customer_id|track_id|           datetime|is_mobile|  zip|hour|\n",
      "+--------+-----------+--------+-------------------+---------+-----+----+\n",
      "|       0|         48|     453|2014-10-23 03:26:20|        0|72132|   3|\n",
      "|       1|       1081|      19|2014-10-15 18:32:14|        1|17307|  18|\n",
      "|       2|        532|      36|2014-12-10 15:33:16|        1|66216|  15|\n",
      "|       3|       2641|     822|2014-10-20 02:24:55|        1|36690|   2|\n",
      "|       4|       2251|     338|2014-11-18 07:16:05|        1|61377|   7|\n",
      "|       5|       1811|       6|2014-11-18 02:00:48|        1|20115|   2|\n",
      "|       6|       3644|      24|2014-12-12 15:24:02|        1|15330|  15|\n",
      "|       7|        250|     726|2014-10-07 09:48:53|        0|33570|   9|\n",
      "|       8|       1782|     442|2014-12-30 15:27:31|        1|41240|  15|\n",
      "|       9|       2932|     775|2014-11-12 07:45:55|        0|63565|   7|\n",
      "+--------+-----------+--------+-------------------+---------+-----+----+\n",
      "only showing top 10 rows\n",
      "\n"
     ]
    }
   ],
   "source": [
    "music_df.select('event_id', 'customer_id', 'track_id', 'datetime', 'is_mobile', 'zip', F.hour('datetime').alias('hour')).show(10)"
   ]
  },
  {
   "cell_type": "code",
   "execution_count": 51,
   "metadata": {},
   "outputs": [
    {
     "name": "stdout",
     "output_type": "stream",
     "text": [
      "+--------+-----------+--------+-------------------+---------+-----+----+------+\n",
      "|event_id|customer_id|track_id|           datetime|is_mobile|  zip|hour|bucket|\n",
      "+--------+-----------+--------+-------------------+---------+-----+----+------+\n",
      "|       0|         48|     453|2014-10-23 03:26:20|        0|72132|   3| night|\n",
      "|       1|       1081|      19|2014-10-15 18:32:14|        1|17307|  18|   eve|\n",
      "|       2|        532|      36|2014-12-10 15:33:16|        1|66216|  15|   aft|\n",
      "|       3|       2641|     822|2014-10-20 02:24:55|        1|36690|   2| night|\n",
      "|       4|       2251|     338|2014-11-18 07:16:05|        1|61377|   7|  morn|\n",
      "|       5|       1811|       6|2014-11-18 02:00:48|        1|20115|   2| night|\n",
      "|       6|       3644|      24|2014-12-12 15:24:02|        1|15330|  15|   aft|\n",
      "|       7|        250|     726|2014-10-07 09:48:53|        0|33570|   9|  morn|\n",
      "|       8|       1782|     442|2014-12-30 15:27:31|        1|41240|  15|   aft|\n",
      "|       9|       2932|     775|2014-11-12 07:45:55|        0|63565|   7|  morn|\n",
      "+--------+-----------+--------+-------------------+---------+-----+----+------+\n",
      "only showing top 10 rows\n",
      "\n"
     ]
    }
   ],
   "source": [
    "(music_df\n",
    " .select('event_id', 'customer_id', 'track_id', 'datetime', 'is_mobile', 'zip', \n",
    "         F.hour('datetime').alias('hour'),\n",
    "         F.when((F.hour('datetime') < 5) | (F.hour('datetime') == 23), F.lit('night'))\n",
    "         .when((F.hour('datetime') >= 5) & (F.hour('datetime') < 12), F.lit('morn'))\n",
    "         .when((F.hour('datetime') >= 12) & (F.hour('datetime') < 17), F.lit('aft'))\n",
    "         .when((F.hour('datetime') >= 17) & (F.hour('datetime') < 22), F.lit('eve'))\n",
    "         .alias('bucket')) \n",
    ").show(10)"
   ]
  },
  {
   "cell_type": "code",
   "execution_count": 52,
   "metadata": {
    "collapsed": true
   },
   "outputs": [],
   "source": [
    "pivot_df = (music_df.select('event_id', 'customer_id', 'track_id', 'datetime', 'is_mobile', 'zip', \n",
    "             F.hour('datetime').alias('hour'),\n",
    "             F.when((F.hour('datetime') < 5) | (F.hour('datetime') == 23), F.lit('night'))\n",
    "             .when((F.hour('datetime') >= 5) & (F.hour('datetime') < 12), F.lit('morn'))\n",
    "             .when((F.hour('datetime') >= 12) & (F.hour('datetime') < 17), F.lit('aft'))\n",
    "             .when((F.hour('datetime') >= 17) & (F.hour('datetime') < 22), F.lit('eve'))\n",
    "             .alias('bucket'))\n",
    "             .select('customer_id', 'bucket')\n",
    "             .groupBy('customer_id')\n",
    "             .pivot('bucket', ['night', 'morn', 'aft', 'eve'])\n",
    "             .agg(F.count('bucket'))\n",
    "           ).cache()"
   ]
  },
  {
   "cell_type": "code",
   "execution_count": 53,
   "metadata": {
    "scrolled": true
   },
   "outputs": [
    {
     "name": "stdout",
     "output_type": "stream",
     "text": [
      "+-----------+-----+----+---+---+\n",
      "|customer_id|night|morn|aft|eve|\n",
      "+-----------+-----+----+---+---+\n",
      "|       2142|   44|  41| 31| 41|\n",
      "|       1238|   54|  64| 30| 46|\n",
      "|        833|   61|  75| 48| 63|\n",
      "|        148|  134| 170|109|124|\n",
      "|       1645|   43|  42| 54| 35|\n",
      "|        471|   75|  96| 60| 73|\n",
      "|       4818|   30|  36| 24| 19|\n",
      "|        463|   94|  99| 84| 76|\n",
      "|       1829|   47|  43| 24| 45|\n",
      "|       2122|   41|  49| 25| 32|\n",
      "+-----------+-----+----+---+---+\n",
      "only showing top 10 rows\n",
      "\n"
     ]
    }
   ],
   "source": [
    "pivot_df.show(10)"
   ]
  },
  {
   "cell_type": "markdown",
   "metadata": {},
   "source": [
    "**Compare the Profile Summary that we got from Multi Step DF API and SQL above and the Pivot operation:**"
   ]
  },
  {
   "cell_type": "code",
   "execution_count": 56,
   "metadata": {},
   "outputs": [
    {
     "name": "stdout",
     "output_type": "stream",
     "text": [
      "+-----------+-----+----+---+---+\n",
      "|customer_id|night|morn|aft|eve|\n",
      "+-----------+-----+----+---+---+\n",
      "|         48|  239| 310|217|223|\n",
      "+-----------+-----+----+---+---+\n",
      "\n"
     ]
    }
   ],
   "source": [
    "pivot_df.filter(col('customer_id') == 48).show()"
   ]
  },
  {
   "cell_type": "code",
   "execution_count": 57,
   "metadata": {
    "scrolled": true
   },
   "outputs": [
    {
     "name": "stdout",
     "output_type": "stream",
     "text": [
      "+-----------+------------------------+----------+---------+--------+--------+--------------+\n",
      "|customer_id|count(DISTINCT track_id)|sum(night)|sum(morn)|sum(aft)|sum(eve)|sum(is_mobile)|\n",
      "+-----------+------------------------+----------+---------+--------+--------+--------------+\n",
      "|         48|                     696|       239|      310|     217|     223|           503|\n",
      "+-----------+------------------------+----------+---------+--------+--------+--------------+\n",
      "\n"
     ]
    }
   ],
   "source": [
    "cust_profile_df.filter(col('customer_id') == 48).show()"
   ]
  },
  {
   "cell_type": "markdown",
   "metadata": {},
   "source": [
    "**YAY!** We can clearly see that the results from our pivot operation and the results we got from DF API and SQL constructs are matching! To make it exactly we would need give a final touch!\n",
    "\n",
    "Gather the stas for no. of unique tracks and is_mobile count separately and then join with the pivot table."
   ]
  },
  {
   "cell_type": "code",
   "execution_count": 58,
   "metadata": {},
   "outputs": [
    {
     "name": "stdout",
     "output_type": "stream",
     "text": [
      "+-----------+------------------------+--------------+\n",
      "|customer_id|count(DISTINCT track_id)|sum(is_mobile)|\n",
      "+-----------+------------------------+--------------+\n",
      "|        148|                     443|           476|\n",
      "|        463|                     306|           176|\n",
      "|       1591|                     171|            85|\n",
      "|       2366|                     143|           113|\n",
      "|       4101|                     100|            85|\n",
      "|       1342|                     173|           102|\n",
      "|       2659|                     119|            59|\n",
      "|       1238|                     191|           158|\n",
      "|       4519|                     103|            54|\n",
      "|       1580|                     162|           134|\n",
      "+-----------+------------------------+--------------+\n",
      "only showing top 10 rows\n",
      "\n"
     ]
    }
   ],
   "source": [
    "(music_df\n",
    " .select('customer_id', 'track_id', 'is_mobile')\n",
    " .groupBy('customer_id')\n",
    " .agg(F.countDistinct('track_id'), F.sum('is_mobile'))\n",
    ").show(10)"
   ]
  },
  {
   "cell_type": "code",
   "execution_count": 59,
   "metadata": {},
   "outputs": [
    {
     "name": "stdout",
     "output_type": "stream",
     "text": [
      "+-----------+------------------------+----------+---------+--------+--------+--------------+\n",
      "|customer_id|count(DISTINCT track_id)|sum(night)|sum(morn)|sum(aft)|sum(eve)|sum(is_mobile)|\n",
      "+-----------+------------------------+----------+---------+--------+--------+--------------+\n",
      "|         48|                     696|       239|      310|     217|     223|           503|\n",
      "+-----------+------------------------+----------+---------+--------+--------+--------------+\n",
      "\n"
     ]
    }
   ],
   "source": [
    "(music_df\n",
    " .select('customer_id', 'track_id', 'is_mobile')\n",
    " .groupBy('customer_id')\n",
    " .agg(F.countDistinct('track_id'), F.sum('is_mobile'))\n",
    " .join(pivot_df, 'customer_id', how='inner')\n",
    " .select('customer_id', 'count(DISTINCT track_id)', \n",
    "         col('night').alias('sum(night)'), \n",
    "         col('morn').alias('sum(morn)'), \n",
    "         col('aft').alias('sum(aft)'), \n",
    "         col('eve').alias('sum(eve)'),\n",
    "         'sum(is_mobile)')\n",
    " .filter(col('customer_id') == 48)\n",
    ").show()"
   ]
  },
  {
   "cell_type": "code",
   "execution_count": 60,
   "metadata": {
    "scrolled": true
   },
   "outputs": [
    {
     "name": "stdout",
     "output_type": "stream",
     "text": [
      "+-----------+------------------------+----------+---------+--------+--------+--------------+\n",
      "|customer_id|count(DISTINCT track_id)|sum(night)|sum(morn)|sum(aft)|sum(eve)|sum(is_mobile)|\n",
      "+-----------+------------------------+----------+---------+--------+--------+--------------+\n",
      "|         48|                     696|       239|      310|     217|     223|           503|\n",
      "+-----------+------------------------+----------+---------+--------+--------+--------------+\n",
      "\n"
     ]
    }
   ],
   "source": [
    "cust_profile_df.filter(col('customer_id') == 48).show()"
   ]
  },
  {
   "cell_type": "code",
   "execution_count": 61,
   "metadata": {},
   "outputs": [
    {
     "data": {
      "text/plain": [
       "DataFrame[customer_id: int, night: bigint, morn: bigint, aft: bigint, eve: bigint]"
      ]
     },
     "execution_count": 61,
     "metadata": {},
     "output_type": "execute_result"
    }
   ],
   "source": [
    "pivot_df.unpersist()"
   ]
  },
  {
   "cell_type": "markdown",
   "metadata": {},
   "source": [
    "### 4.5 Average number of tracks listened by Customers of Different Levels during Different Time of the Day:"
   ]
  },
  {
   "cell_type": "code",
   "execution_count": 62,
   "metadata": {},
   "outputs": [
    {
     "name": "stdout",
     "output_type": "stream",
     "text": [
      "+-----------+-------------+------+--------------------+-----+----------+------+-----+--------+--------------+\n",
      "|customer_id|         name|gender|             address|  zip| sign_date|status|level|campaign|lnkd_with_apps|\n",
      "+-----------+-------------+------+--------------------+-----+----------+------+-----+--------+--------------+\n",
      "|          0|Gregory Koval|     0|13004 Easy Cider ...|72132|06/04/2013|     1|    1|       1|             0|\n",
      "|          1|Robert Gordon|     0|10497 Thunder Hic...|17307|07/27/2013|     1|    1|       1|             0|\n",
      "|          2|Paula Peltier|     0|10084 Easy Gate Bend|66216|01/13/2013|     1|    0|       4|             1|\n",
      "|          3|Francine Gray|     0|54845 Bent Pony H...|36690|07/11/2013|     1|    1|       1|             1|\n",
      "|          4| David Garcia|     0|8551 Tawny Fox Villa|61377|09/09/2012|     1|    0|       1|             1|\n",
      "+-----------+-------------+------+--------------------+-----+----------+------+-----+--------+--------------+\n",
      "only showing top 5 rows\n",
      "\n"
     ]
    }
   ],
   "source": [
    "cust_df.show(5)"
   ]
  },
  {
   "cell_type": "code",
   "execution_count": 63,
   "metadata": {
    "collapsed": true
   },
   "outputs": [],
   "source": [
    "# Map from level number to actual level string\n",
    "level_map = {0:\"Free\", 1:\"Silver\", 2:\"Gold\"}\n",
    "\n",
    "# Define a udf\n",
    "udfIndexTolevel = udf(lambda x: level_map[x], StringType())"
   ]
  },
  {
   "cell_type": "code",
   "execution_count": 64,
   "metadata": {
    "collapsed": true
   },
   "outputs": [],
   "source": [
    "result_df = (cust_df.join(cust_profile_df, on='customer_id', how='inner')\n",
    "                     .select([udfIndexTolevel('level').alias('level'), 'sum(night)', 'sum(morn)', 'sum(aft)', 'sum(eve)'])\n",
    "                     .groupBy('level')\n",
    "                     .agg(F.avg('sum(aft)').alias('Afternoon'), \n",
    "                          F.avg('sum(eve)').alias('Evening'), \n",
    "                          F.avg('sum(morn)').alias('Morning'), \n",
    "                          F.avg('sum(night)').alias(\"Night\")))"
   ]
  },
  {
   "cell_type": "code",
   "execution_count": 65,
   "metadata": {},
   "outputs": [
    {
     "name": "stdout",
     "output_type": "stream",
     "text": [
      "+------+------------------+------------------+-----------------+------------------+\n",
      "| level|         Afternoon|           Evening|          Morning|             Night|\n",
      "+------+------------------+------------------+-----------------+------------------+\n",
      "|Silver| 42.12979890310786|42.409506398537474|59.01401584399756|50.759293113954904|\n",
      "|  Gold|39.868173258003765| 40.22975517890772|56.35969868173258| 47.69303201506591|\n",
      "|  Free|  41.6944837340877|41.675035360678926|58.23373408769449| 49.99893917963225|\n",
      "+------+------------------+------------------+-----------------+------------------+\n",
      "\n"
     ]
    }
   ],
   "source": [
    "result_df.cache().show()"
   ]
  },
  {
   "cell_type": "code",
   "execution_count": 66,
   "metadata": {},
   "outputs": [
    {
     "data": {
      "image/png": "[encoded data removed]",
      "text/plain": [
       "<matplotlib.figure.Figure at 0x29a4d7e9438>"
      ]
     },
     "metadata": {
      "image/png": {
       "height": 277,
       "width": 702
      }
     },
     "output_type": "display_data"
    }
   ],
   "source": [
    "result_df.toPandas().plot.bar(x='level', figsize=(12, 4));"
   ]
  },
  {
   "cell_type": "code",
   "execution_count": 67,
   "metadata": {},
   "outputs": [
    {
     "data": {
      "text/plain": [
       "DataFrame[level: string, Afternoon: double, Evening: double, Morning: double, Night: double]"
      ]
     },
     "execution_count": 67,
     "metadata": {},
     "output_type": "execute_result"
    }
   ],
   "source": [
    "result_df.unpersist()"
   ]
  },
  {
   "cell_type": "markdown",
   "metadata": {},
   "source": [
    "### 4.6 Distribution of Customers By Level:"
   ]
  },
  {
   "cell_type": "code",
   "execution_count": 68,
   "metadata": {
    "collapsed": true
   },
   "outputs": [],
   "source": [
    "result_df = (cust_df.select(['level', (F.when(col('gender') == 0, \"Male\").otherwise(\"Female\")).alias('gender')])\n",
    "                 .groupBy('level')\n",
    "                 .pivot('gender')\n",
    "                 .count()\n",
    "                 .orderBy('level', ascending=False))"
   ]
  },
  {
   "cell_type": "code",
   "execution_count": 69,
   "metadata": {},
   "outputs": [
    {
     "name": "stdout",
     "output_type": "stream",
     "text": [
      "+-----+------+----+\n",
      "|level|Female|Male|\n",
      "+-----+------+----+\n",
      "|    2|   201| 330|\n",
      "|    1|   670| 971|\n",
      "|    0|  1145|1683|\n",
      "+-----+------+----+\n",
      "\n"
     ]
    }
   ],
   "source": [
    "result_df.cache().show()"
   ]
  },
  {
   "cell_type": "code",
   "execution_count": 70,
   "metadata": {},
   "outputs": [
    {
     "data": {
      "image/png": "[encoded data removed]",
      "text/plain": [
       "<matplotlib.figure.Figure at 0x29a4dc76630>"
      ]
     },
     "metadata": {
      "image/png": {
       "height": 248,
       "width": 375
      }
     },
     "output_type": "display_data"
    }
   ],
   "source": [
    "result_df.toPandas().set_index('level').plot.barh(stacked=True);"
   ]
  },
  {
   "cell_type": "code",
   "execution_count": 71,
   "metadata": {},
   "outputs": [
    {
     "data": {
      "text/plain": [
       "DataFrame[level: int, Female: bigint, Male: bigint]"
      ]
     },
     "execution_count": 71,
     "metadata": {},
     "output_type": "execute_result"
    }
   ],
   "source": [
    "result_df.unpersist()"
   ]
  },
  {
   "cell_type": "markdown",
   "metadata": {},
   "source": [
    "### 4.7 Top 10 Zip Codes: Which regions consume most from this service:"
   ]
  },
  {
   "cell_type": "code",
   "execution_count": 72,
   "metadata": {
    "collapsed": true
   },
   "outputs": [],
   "source": [
    "result_df = cust_df.groupBy('zip').count().orderBy('count', ascending=False).limit(10)"
   ]
  },
  {
   "cell_type": "code",
   "execution_count": 73,
   "metadata": {},
   "outputs": [
    {
     "name": "stdout",
     "output_type": "stream",
     "text": [
      "+-----+-----+\n",
      "|  zip|count|\n",
      "+-----+-----+\n",
      "| 5341|    4|\n",
      "|80821|    4|\n",
      "|71458|    3|\n",
      "|31409|    3|\n",
      "|70446|    3|\n",
      "|20098|    3|\n",
      "|80459|    3|\n",
      "|57445|    3|\n",
      "|78754|    3|\n",
      "|47577|    3|\n",
      "+-----+-----+\n",
      "\n"
     ]
    }
   ],
   "source": [
    "result_df.cache().show()"
   ]
  },
  {
   "cell_type": "code",
   "execution_count": 74,
   "metadata": {},
   "outputs": [
    {
     "data": {
      "image/png": "[encoded data removed]",
      "text/plain": [
       "<matplotlib.figure.Figure at 0x29a4dd0cbe0>"
      ]
     },
     "metadata": {
      "image/png": {
       "height": 248,
       "width": 398
      }
     },
     "output_type": "display_data"
    }
   ],
   "source": [
    "result_df.toPandas().plot.barh(x='zip');"
   ]
  },
  {
   "cell_type": "code",
   "execution_count": 75,
   "metadata": {},
   "outputs": [
    {
     "data": {
      "text/plain": [
       "DataFrame[zip: int, count: bigint]"
      ]
     },
     "execution_count": 75,
     "metadata": {},
     "output_type": "execute_result"
    }
   ],
   "source": [
    "result_df.unpersist()"
   ]
  },
  {
   "cell_type": "markdown",
   "metadata": {},
   "source": [
    "### 4.8 Distribution of Customers By SignUp Campaign:"
   ]
  },
  {
   "cell_type": "code",
   "execution_count": 76,
   "metadata": {
    "collapsed": true
   },
   "outputs": [],
   "source": [
    "# Map from campaign number to actual campaign string\n",
    "campaign_map = {0:\"None\", 1:\"30DaysFree\", 2:\"SuperBowl\",  3:\"RetailStore\", 4:\"WebOffer\"}\n",
    "\n",
    "# Define a udf\n",
    "udfIndexToCampaign = udf(lambda x: campaign_map[x], StringType())"
   ]
  },
  {
   "cell_type": "code",
   "execution_count": 77,
   "metadata": {
    "collapsed": true
   },
   "outputs": [],
   "source": [
    "result_df = (cust_df.select(udfIndexToCampaign(\"campaign\").alias(\"campaign\"))\n",
    "                 .groupBy('campaign')\n",
    "                 .count()\n",
    "                 .orderBy('count', ascending=True))"
   ]
  },
  {
   "cell_type": "code",
   "execution_count": 78,
   "metadata": {},
   "outputs": [
    {
     "name": "stdout",
     "output_type": "stream",
     "text": [
      "+-----------+-----+\n",
      "|   campaign|count|\n",
      "+-----------+-----+\n",
      "|  SuperBowl|  240|\n",
      "|RetailStore|  489|\n",
      "|       None|  608|\n",
      "|   WebOffer|  750|\n",
      "| 30DaysFree| 2913|\n",
      "+-----------+-----+\n",
      "\n"
     ]
    }
   ],
   "source": [
    "result_df.cache().show()"
   ]
  },
  {
   "cell_type": "code",
   "execution_count": 79,
   "metadata": {},
   "outputs": [
    {
     "data": {
      "image/png": "[encoded data removed]",
      "text/plain": [
       "<matplotlib.figure.Figure at 0x29a4ddd05c0>"
      ]
     },
     "metadata": {
      "image/png": {
       "height": 248,
       "width": 429
      }
     },
     "output_type": "display_data"
    }
   ],
   "source": [
    "result_df.toPandas().plot.barh(x='campaign');"
   ]
  },
  {
   "cell_type": "code",
   "execution_count": 80,
   "metadata": {},
   "outputs": [
    {
     "data": {
      "text/plain": [
       "DataFrame[campaign: string, count: bigint]"
      ]
     },
     "execution_count": 80,
     "metadata": {},
     "output_type": "execute_result"
    }
   ],
   "source": [
    "result_df.unpersist()"
   ]
  },
  {
   "cell_type": "markdown",
   "metadata": {},
   "source": [
    "### 4.9 Average Unique Track Count By Customer Level:"
   ]
  },
  {
   "cell_type": "code",
   "execution_count": 81,
   "metadata": {
    "collapsed": true
   },
   "outputs": [],
   "source": [
    "result_df = (music_df.select(['customer_id', 'track_id'])\n",
    "                            .groupBy('customer_id')\n",
    "                            .agg(F.countDistinct('track_id').alias('unique_track_count'))\n",
    "                            .join(cust_df, on='customer_id', how='inner')\n",
    "                            .select([udfIndexTolevel('level').alias('level'), 'unique_track_count'])\n",
    "                            .groupBy('level')\n",
    "                            .agg(F.avg('unique_track_count').alias('avg_unique_track_count')))"
   ]
  },
  {
   "cell_type": "code",
   "execution_count": 82,
   "metadata": {},
   "outputs": [
    {
     "name": "stdout",
     "output_type": "stream",
     "text": [
      "+------+----------------------+\n",
      "| level|avg_unique_track_count|\n",
      "+------+----------------------+\n",
      "|Silver|     170.2772699573431|\n",
      "|  Gold|    166.85310734463278|\n",
      "|  Free|     170.9515558698727|\n",
      "+------+----------------------+\n",
      "\n"
     ]
    }
   ],
   "source": [
    "result_df.cache().show()"
   ]
  },
  {
   "cell_type": "code",
   "execution_count": 83,
   "metadata": {},
   "outputs": [
    {
     "data": {
      "image/png": "[encoded data removed]",
      "text/plain": [
       "<matplotlib.figure.Figure at 0x29a4de2fa58>"
      ]
     },
     "metadata": {
      "image/png": {
       "height": 248,
       "width": 395
      }
     },
     "output_type": "display_data"
    }
   ],
   "source": [
    "result_df.toPandas().sort_values(by='avg_unique_track_count', ascending=False).plot.barh(x='level');"
   ]
  },
  {
   "cell_type": "code",
   "execution_count": 84,
   "metadata": {},
   "outputs": [
    {
     "data": {
      "text/plain": [
       "DataFrame[level: string, avg_unique_track_count: double]"
      ]
     },
     "execution_count": 84,
     "metadata": {},
     "output_type": "execute_result"
    }
   ],
   "source": [
    "result_df.unpersist()"
   ]
  },
  {
   "cell_type": "markdown",
   "metadata": {},
   "source": [
    "### 4.10 Mobile Tracks Count By Customer Level:"
   ]
  },
  {
   "cell_type": "code",
   "execution_count": 85,
   "metadata": {
    "collapsed": true,
    "scrolled": true
   },
   "outputs": [],
   "source": [
    "result_df = (music_df.select(['customer_id', 'track_id'])\n",
    "                            .filter(col('is_mobile') == 1)\n",
    "                            .groupBy('customer_id')\n",
    "                            .count()\n",
    "                            .withColumnRenamed('count', 'mobile_track_count')\n",
    "                            .join(cust_df, on='customer_id', how='inner')\n",
    "                            .select([udfIndexTolevel('level').alias('level'), 'mobile_track_count'])\n",
    "                            .groupBy('level')\n",
    "                            .agg(F.avg('mobile_track_count').alias('avg_mobile_track_count'))\n",
    "                            .orderBy('avg_mobile_track_count'))"
   ]
  },
  {
   "cell_type": "code",
   "execution_count": 86,
   "metadata": {},
   "outputs": [
    {
     "name": "stdout",
     "output_type": "stream",
     "text": [
      "+------+----------------------+\n",
      "| level|avg_mobile_track_count|\n",
      "+------+----------------------+\n",
      "|  Free|    100.01308345120226|\n",
      "|Silver|     146.1614868982328|\n",
      "|  Gold|    160.22033898305085|\n",
      "+------+----------------------+\n",
      "\n"
     ]
    }
   ],
   "source": [
    "result_df.cache().show()"
   ]
  },
  {
   "cell_type": "code",
   "execution_count": 87,
   "metadata": {},
   "outputs": [
    {
     "data": {
      "image/png": "[encoded data removed]",
      "text/plain": [
       "<matplotlib.figure.Figure at 0x29a4dee52e8>"
      ]
     },
     "metadata": {
      "image/png": {
       "height": 248,
       "width": 395
      }
     },
     "output_type": "display_data"
    }
   ],
   "source": [
    "result_df.toPandas().sort_values(by='avg_mobile_track_count', ascending=False).plot.barh(x='level');"
   ]
  },
  {
   "cell_type": "code",
   "execution_count": 88,
   "metadata": {},
   "outputs": [
    {
     "data": {
      "text/plain": [
       "DataFrame[level: string, avg_mobile_track_count: double]"
      ]
     },
     "execution_count": 88,
     "metadata": {},
     "output_type": "execute_result"
    }
   ],
   "source": [
    "result_df.unpersist()"
   ]
  },
  {
   "cell_type": "code",
   "execution_count": 89,
   "metadata": {},
   "outputs": [
    {
     "data": {
      "text/plain": [
       "DataFrame[event_id: int, customer_id: int, track_id: string, datetime: string, is_mobile: int, zip: int]"
      ]
     },
     "execution_count": 89,
     "metadata": {},
     "output_type": "execute_result"
    },
    {
     "data": {
      "text/plain": [
       "DataFrame[customer_id: int, name: string, gender: int, address: string, zip: int, sign_date: string, status: int, level: int, campaign: int, lnkd_with_apps: int]"
      ]
     },
     "execution_count": 89,
     "metadata": {},
     "output_type": "execute_result"
    }
   ],
   "source": [
    "music_df.unpersist()\n",
    "cust_df.unpersist()"
   ]
  },
  {
   "cell_type": "code",
   "execution_count": 90,
   "metadata": {
    "collapsed": true
   },
   "outputs": [],
   "source": [
    "spark.stop()"
   ]
  },
  {
   "cell_type": "code",
   "execution_count": null,
   "metadata": {
    "collapsed": true
   },
   "outputs": [],
   "source": []
  }
 ],
 "metadata": {
  "kernelspec": {
   "display_name": "Python 3",
   "language": "python",
   "name": "python3"
  },
  "language_info": {
   "codemirror_mode": {
    "name": "ipython",
    "version": 3
   },
   "file_extension": ".py",
   "mimetype": "text/x-python",
   "name": "python",
   "nbconvert_exporter": "python",
   "pygments_lexer": "ipython3",
   "version": "3.5.3"
  },
  "toc": {
   "colors": {
    "hover_highlight": "#DAA520",
    "navigate_num": "#000000",
    "navigate_text": "#333333",
    "running_highlight": "#FF0000",
    "selected_highlight": "#FFD700",
    "sidebar_border": "#EEEEEE",
    "wrapper_background": "#FFFFFF"
   },
   "moveMenuLeft": true,
   "nav_menu": {
    "height": "262px",
    "width": "252px"
   },
   "navigate_menu": true,
   "number_sections": true,
   "sideBar": true,
   "threshold": 4,
   "toc_cell": false,
   "toc_section_display": "block",
   "toc_window_display": false,
   "widenNotebook": false
  }
 },
 "nbformat": 4,
 "nbformat_minor": 2
}
