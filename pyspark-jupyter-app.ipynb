{
 "cells": [
  {
   "cell_type": "markdown",
   "metadata": {},
   "source": [
    "1. Create a Anaconda environment 'pyspark'\n",
    "2. !pip install pyspark ( this package will directly communicate with Spark)\n",
    "3. Install Spark in your machine (from here: https://spark.apache.org/downloads.html). I installed spark-2.2.0-bin-hadoop2.6.tgz\n",
    "4. In your .bash_profile set the following\n",
    "    export SPARK_HOME=/Users/anindyas/work/spark-2.2.0-bin-hadoop2.6\n",
    "    PATH=\\$SPARK_HOME/bin:$PATH\n",
    "    export PATH\n",
    "\n",
    "    export PATH=\"/Users/anindyas/anaconda/envs/pyspark/bin:$PATH\"\n",
    "    \n",
    "    There is further better way to set the environment variables but for now it is fine.\n",
    "5. start you jupyter notebook from Anaconda Navigator in pyspark environment"
   ]
  },
  {
   "cell_type": "code",
   "execution_count": 1,
   "metadata": {
    "collapsed": true
   },
   "outputs": [],
   "source": [
    "import os\n",
    "import pandas\n",
    "\n",
    "from pyspark import SparkConf, SparkContext\n",
    "from pyspark.sql import SparkSession, SQLContext"
   ]
  },
  {
   "cell_type": "code",
   "execution_count": 2,
   "metadata": {
    "collapsed": true
   },
   "outputs": [],
   "source": [
    "import seaborn as sns\n",
    "import matplotlib.pyplot as plt"
   ]
  },
  {
   "cell_type": "code",
   "execution_count": 3,
   "metadata": {
    "collapsed": true
   },
   "outputs": [],
   "source": [
    "%matplotlib inline"
   ]
  },
  {
   "cell_type": "code",
   "execution_count": 4,
   "metadata": {},
   "outputs": [
    {
     "name": "stdout",
     "output_type": "stream",
     "text": [
      "/home/ubuntu/anaconda3/envs/pyspark/bin/python\r\n"
     ]
    }
   ],
   "source": [
    "!which python"
   ]
  },
  {
   "cell_type": "code",
   "execution_count": 5,
   "metadata": {
    "collapsed": true
   },
   "outputs": [],
   "source": [
    "# creating the SparkContext in Spark 1.6 way\n",
    "#sc = SparkContext(master='local[*]', appName='pyspark-jupyter', sparkHome=os.environ['SPARK_HOME'])\n",
    "#sc"
   ]
  },
  {
   "cell_type": "code",
   "execution_count": 6,
   "metadata": {
    "collapsed": true
   },
   "outputs": [],
   "source": [
    "# creating the SparkContext Spark 2.2.0 way\n",
    "spark = (SparkSession\n",
    "         .builder\n",
    "         .master(\"local[*]\")\n",
    "         .appName(\"pyspark-jupyter\")\n",
    "         .getOrCreate())\n",
    "#spark = (SparkSession\n",
    "#         .builder\n",
    "#         .master(\"local[*]\")\n",
    "#         .appName(\"pyspark-jupyter\")\n",
    "#         .config(\"spark.some.config.option\", \"some-value\")\n",
    "#         .getOrCreate())"
   ]
  },
  {
   "cell_type": "code",
   "execution_count": 7,
   "metadata": {},
   "outputs": [
    {
     "data": {
      "text/html": [
       "\n",
       "        <div>\n",
       "            <p><b>SparkContext</b></p>\n",
       "\n",
       "            <p><a href=\"http://ip-172-30-5-82.ec2.internal:4040\">Spark UI</a></p>\n",
       "\n",
       "            <dl>\n",
       "              <dt>Version</dt>\n",
       "                <dd><code>v2.3.0</code></dd>\n",
       "              <dt>Master</dt>\n",
       "                <dd><code>local[*]</code></dd>\n",
       "              <dt>AppName</dt>\n",
       "                <dd><code>pyspark-jupyter</code></dd>\n",
       "            </dl>\n",
       "        </div>\n",
       "        "
      ],
      "text/plain": [
       "<SparkContext master=local[*] appName=pyspark-jupyter>"
      ]
     },
     "execution_count": 7,
     "metadata": {},
     "output_type": "execute_result"
    }
   ],
   "source": [
    "sc = spark.sparkContext\n",
    "sc"
   ]
  },
  {
   "cell_type": "code",
   "execution_count": 8,
   "metadata": {},
   "outputs": [
    {
     "data": {
      "text/plain": [
       "(None, 'local[*]', 'pyspark-jupyter')"
      ]
     },
     "execution_count": 8,
     "metadata": {},
     "output_type": "execute_result"
    }
   ],
   "source": [
    "sc.sparkHome, sc.master, sc.appName"
   ]
  },
  {
   "cell_type": "markdown",
   "metadata": {},
   "source": [
    "# Loading Data Into Spark RDD"
   ]
  },
  {
   "cell_type": "code",
   "execution_count": 9,
   "metadata": {
    "collapsed": true
   },
   "outputs": [],
   "source": [
    "AUCTION_DATA_PATH = 'data/auction.csv'"
   ]
  },
  {
   "cell_type": "markdown",
   "metadata": {},
   "source": [
    "## Load Data as Strings in unnamed Rows\n",
    "\n",
    "Load Data into RDD from a csv. Note here we did not provide any schema hence all the rows would be loaded as Strings"
   ]
  },
  {
   "cell_type": "code",
   "execution_count": 10,
   "metadata": {
    "collapsed": true
   },
   "outputs": [],
   "source": [
    "auctionRDD = sc.textFile(AUCTION_DATA_PATH).map(lambda line: line.split(\",\"))"
   ]
  },
  {
   "cell_type": "code",
   "execution_count": 11,
   "metadata": {},
   "outputs": [
    {
     "data": {
      "text/plain": [
       "['8213034705', '95', '2.927373', 'jake7870', '0', '95', '117.5', 'xbox', '3']"
      ]
     },
     "execution_count": 11,
     "metadata": {},
     "output_type": "execute_result"
    }
   ],
   "source": [
    "auctionRDD.first()"
   ]
  },
  {
   "cell_type": "code",
   "execution_count": 12,
   "metadata": {},
   "outputs": [
    {
     "data": {
      "text/plain": [
       "10654"
      ]
     },
     "execution_count": 12,
     "metadata": {},
     "output_type": "execute_result"
    }
   ],
   "source": [
    "auctionRDD.count()"
   ]
  },
  {
   "cell_type": "markdown",
   "metadata": {},
   "source": [
    "### Let's collect the first two bids"
   ]
  },
  {
   "cell_type": "code",
   "execution_count": 13,
   "metadata": {},
   "outputs": [
    {
     "data": {
      "text/plain": [
       "['95', '115']"
      ]
     },
     "execution_count": 13,
     "metadata": {},
     "output_type": "execute_result"
    }
   ],
   "source": [
    "list(map(lambda record: record[1], auctionRDD.take(2)))"
   ]
  },
  {
   "cell_type": "markdown",
   "metadata": {},
   "source": [
    "## Load Data as Strings but as named tuples\n",
    "\n",
    "We will see below why it is more convenient."
   ]
  },
  {
   "cell_type": "code",
   "execution_count": 14,
   "metadata": {
    "collapsed": true
   },
   "outputs": [],
   "source": [
    "from collections import namedtuple"
   ]
  },
  {
   "cell_type": "code",
   "execution_count": 15,
   "metadata": {
    "collapsed": true
   },
   "outputs": [],
   "source": [
    "# auctionid - unique identifier of an auction\n",
    "# bid - the proxy bid placed by a bidder\n",
    "# bidtime - the time (in days) that the bid was placed, from the start of the auction\n",
    "# bidder - eBay username of the bidder\n",
    "# bidderrate - eBay feedback rating of the bidder\n",
    "# openbid - the opening bid set by the seller\n",
    "# price - the closing price that the item sold for (equivalent to the second highest bid + an increment)\n",
    "# item -  the name of the item\n",
    "# daystolive - how long the bid is alive\n",
    "Auction = namedtuple(\"Auction\", [\"auctionid\", \"bid\", \"bidtime\", \"bidder\", \"bidderrate\", \"openbid\", \"price\", \"item\", \"daystolive\"])"
   ]
  },
  {
   "cell_type": "code",
   "execution_count": 16,
   "metadata": {
    "collapsed": true
   },
   "outputs": [],
   "source": [
    "auctionRDD2 = sc.textFile(AUCTION_DATA_PATH).map(lambda line: line.split(\",\"))"
   ]
  },
  {
   "cell_type": "code",
   "execution_count": 17,
   "metadata": {
    "collapsed": true
   },
   "outputs": [],
   "source": [
    "auctionRDD2 = auctionRDD.map(lambda rec: Auction(rec[0], rec[1], rec[2], rec[3], rec[4], rec[5], rec[6], rec[7], rec[8]))"
   ]
  },
  {
   "cell_type": "code",
   "execution_count": 18,
   "metadata": {},
   "outputs": [
    {
     "data": {
      "text/plain": [
       "Auction(auctionid='8213034705', bid='95', bidtime='2.927373', bidder='jake7870', bidderrate='0', openbid='95', price='117.5', item='xbox', daystolive='3')"
      ]
     },
     "execution_count": 18,
     "metadata": {},
     "output_type": "execute_result"
    }
   ],
   "source": [
    "auctionRDD2.first()"
   ]
  },
  {
   "cell_type": "markdown",
   "metadata": {},
   "source": [
    "Observe here, instead of simple strings, each row is a named tuple now.\n",
    "\n",
    "### Let's collect the first two bids\n",
    "\n",
    "We can collect the first two bids now by specifying the field name of the tuple instead of field index as above. This is more convenient."
   ]
  },
  {
   "cell_type": "code",
   "execution_count": 19,
   "metadata": {},
   "outputs": [
    {
     "data": {
      "text/plain": [
       "['95', '115']"
      ]
     },
     "execution_count": 19,
     "metadata": {},
     "output_type": "execute_result"
    }
   ],
   "source": [
    "list(map(lambda auction: auction.bid, auctionRDD2.take(2)))"
   ]
  },
  {
   "cell_type": "markdown",
   "metadata": {},
   "source": [
    "## Converting a SparkRDD into SparkDF"
   ]
  },
  {
   "cell_type": "code",
   "execution_count": 20,
   "metadata": {
    "collapsed": true
   },
   "outputs": [],
   "source": [
    "# toDF method is a monkey patch executed inside SparkSession (SQLContext constructor in 1.x) constructor so to be able to use it \n",
    "# you have to create a SQLContext (or SparkSession) first\n",
    "#from pyspark.sql import SparkSession, SQLContext\n",
    "#spark = SparkSession(sc)"
   ]
  },
  {
   "cell_type": "code",
   "execution_count": 21,
   "metadata": {
    "collapsed": true
   },
   "outputs": [],
   "source": [
    "auctionDF = auctionRDD.toDF()"
   ]
  },
  {
   "cell_type": "code",
   "execution_count": 22,
   "metadata": {},
   "outputs": [
    {
     "name": "stdout",
     "output_type": "stream",
     "text": [
      "+----------+-----+--------+--------------+---+---+-----+----+---+\n",
      "|        _1|   _2|      _3|            _4| _5| _6|   _7|  _8| _9|\n",
      "+----------+-----+--------+--------------+---+---+-----+----+---+\n",
      "|8213034705|   95|2.927373|      jake7870|  0| 95|117.5|xbox|  3|\n",
      "|8213034705|  115|2.943484| davidbresler2|  1| 95|117.5|xbox|  3|\n",
      "|8213034705|  100|2.951285|gladimacowgirl| 58| 95|117.5|xbox|  3|\n",
      "|8213034705|117.5|2.998947|       daysrus| 10| 95|117.5|xbox|  3|\n",
      "|8213060420|    2|0.065266|    donnie4814|  5|  1|  120|xbox|  3|\n",
      "+----------+-----+--------+--------------+---+---+-----+----+---+\n",
      "only showing top 5 rows\n",
      "\n"
     ]
    }
   ],
   "source": [
    "auctionDF.show(5)"
   ]
  },
  {
   "cell_type": "markdown",
   "metadata": {},
   "source": [
    "Let's convert the RDD with named tuple to DF"
   ]
  },
  {
   "cell_type": "code",
   "execution_count": 23,
   "metadata": {
    "collapsed": true
   },
   "outputs": [],
   "source": [
    "auctionDF2 = auctionRDD2.toDF()"
   ]
  },
  {
   "cell_type": "code",
   "execution_count": 24,
   "metadata": {},
   "outputs": [
    {
     "name": "stdout",
     "output_type": "stream",
     "text": [
      "+----------+-----+--------+--------------+----------+-------+-----+----+----------+\n",
      "| auctionid|  bid| bidtime|        bidder|bidderrate|openbid|price|item|daystolive|\n",
      "+----------+-----+--------+--------------+----------+-------+-----+----+----------+\n",
      "|8213034705|   95|2.927373|      jake7870|         0|     95|117.5|xbox|         3|\n",
      "|8213034705|  115|2.943484| davidbresler2|         1|     95|117.5|xbox|         3|\n",
      "|8213034705|  100|2.951285|gladimacowgirl|        58|     95|117.5|xbox|         3|\n",
      "|8213034705|117.5|2.998947|       daysrus|        10|     95|117.5|xbox|         3|\n",
      "|8213060420|    2|0.065266|    donnie4814|         5|      1|  120|xbox|         3|\n",
      "+----------+-----+--------+--------------+----------+-------+-----+----+----------+\n",
      "only showing top 5 rows\n",
      "\n"
     ]
    }
   ],
   "source": [
    "auctionDF2.show(5)"
   ]
  },
  {
   "cell_type": "markdown",
   "metadata": {},
   "source": [
    "See the difference in the headings that are generated in the above two cases when we convert the RDD to DF."
   ]
  },
  {
   "cell_type": "markdown",
   "metadata": {},
   "source": [
    "# Loading Data Into Spark DataFrames\n",
    "\n",
    "Instead of going through a RDD we can also load the data as a DataFrame directly."
   ]
  },
  {
   "cell_type": "markdown",
   "metadata": {},
   "source": [
    "## Load Data into SparkDF without infering the Schema i.e. all columns will be treated as String"
   ]
  },
  {
   "cell_type": "code",
   "execution_count": 25,
   "metadata": {
    "collapsed": true
   },
   "outputs": [],
   "source": [
    "auctionDF3 = spark.read.csv(AUCTION_DATA_PATH, inferSchema=False)"
   ]
  },
  {
   "cell_type": "code",
   "execution_count": 26,
   "metadata": {},
   "outputs": [
    {
     "data": {
      "text/plain": [
       "pyspark.sql.dataframe.DataFrame"
      ]
     },
     "execution_count": 26,
     "metadata": {},
     "output_type": "execute_result"
    }
   ],
   "source": [
    "type(auctionDF3)"
   ]
  },
  {
   "cell_type": "code",
   "execution_count": 27,
   "metadata": {},
   "outputs": [
    {
     "data": {
      "text/plain": [
       "DataFrame[_c0: string, _c1: string, _c2: string, _c3: string, _c4: string, _c5: string, _c6: string, _c7: string, _c8: string]"
      ]
     },
     "execution_count": 27,
     "metadata": {},
     "output_type": "execute_result"
    }
   ],
   "source": [
    "auctionDF3"
   ]
  },
  {
   "cell_type": "code",
   "execution_count": 28,
   "metadata": {},
   "outputs": [
    {
     "name": "stdout",
     "output_type": "stream",
     "text": [
      "+----------+-----+--------+--------------+---+---+-----+----+---+\n",
      "|       _c0|  _c1|     _c2|           _c3|_c4|_c5|  _c6| _c7|_c8|\n",
      "+----------+-----+--------+--------------+---+---+-----+----+---+\n",
      "|8213034705|   95|2.927373|      jake7870|  0| 95|117.5|xbox|  3|\n",
      "|8213034705|  115|2.943484| davidbresler2|  1| 95|117.5|xbox|  3|\n",
      "|8213034705|  100|2.951285|gladimacowgirl| 58| 95|117.5|xbox|  3|\n",
      "|8213034705|117.5|2.998947|       daysrus| 10| 95|117.5|xbox|  3|\n",
      "|8213060420|    2|0.065266|    donnie4814|  5|  1|  120|xbox|  3|\n",
      "+----------+-----+--------+--------------+---+---+-----+----+---+\n",
      "only showing top 5 rows\n",
      "\n"
     ]
    }
   ],
   "source": [
    "auctionDF3.show(5)"
   ]
  },
  {
   "cell_type": "code",
   "execution_count": 29,
   "metadata": {},
   "outputs": [
    {
     "name": "stdout",
     "output_type": "stream",
     "text": [
      "root\n",
      " |-- _c0: string (nullable = true)\n",
      " |-- _c1: string (nullable = true)\n",
      " |-- _c2: string (nullable = true)\n",
      " |-- _c3: string (nullable = true)\n",
      " |-- _c4: string (nullable = true)\n",
      " |-- _c5: string (nullable = true)\n",
      " |-- _c6: string (nullable = true)\n",
      " |-- _c7: string (nullable = true)\n",
      " |-- _c8: string (nullable = true)\n",
      "\n"
     ]
    }
   ],
   "source": [
    "# print the schema. Spark has given some default column names\n",
    "auctionDF3.printSchema()"
   ]
  },
  {
   "cell_type": "markdown",
   "metadata": {},
   "source": [
    "## Load Data into SparkDF letting Spark infer the Schema by itself\n",
    "\n",
    "We can isntruct Spark to infer the schema determine the correct data type of the columns by itslef, we don't provide any."
   ]
  },
  {
   "cell_type": "code",
   "execution_count": 30,
   "metadata": {
    "collapsed": true
   },
   "outputs": [],
   "source": [
    "auctionDF4 = spark.read.csv(AUCTION_DATA_PATH, inferSchema=True)"
   ]
  },
  {
   "cell_type": "code",
   "execution_count": 31,
   "metadata": {},
   "outputs": [
    {
     "data": {
      "text/plain": [
       "pyspark.sql.dataframe.DataFrame"
      ]
     },
     "execution_count": 31,
     "metadata": {},
     "output_type": "execute_result"
    }
   ],
   "source": [
    "type(auctionDF4)"
   ]
  },
  {
   "cell_type": "code",
   "execution_count": 32,
   "metadata": {},
   "outputs": [
    {
     "data": {
      "text/plain": [
       "DataFrame[_c0: bigint, _c1: double, _c2: double, _c3: string, _c4: int, _c5: double, _c6: double, _c7: string, _c8: int]"
      ]
     },
     "execution_count": 32,
     "metadata": {},
     "output_type": "execute_result"
    }
   ],
   "source": [
    "auctionDF4"
   ]
  },
  {
   "cell_type": "code",
   "execution_count": 33,
   "metadata": {},
   "outputs": [
    {
     "name": "stdout",
     "output_type": "stream",
     "text": [
      "+----------+-----+--------+--------------+---+----+-----+----+---+\n",
      "|       _c0|  _c1|     _c2|           _c3|_c4| _c5|  _c6| _c7|_c8|\n",
      "+----------+-----+--------+--------------+---+----+-----+----+---+\n",
      "|8213034705| 95.0|2.927373|      jake7870|  0|95.0|117.5|xbox|  3|\n",
      "|8213034705|115.0|2.943484| davidbresler2|  1|95.0|117.5|xbox|  3|\n",
      "|8213034705|100.0|2.951285|gladimacowgirl| 58|95.0|117.5|xbox|  3|\n",
      "|8213034705|117.5|2.998947|       daysrus| 10|95.0|117.5|xbox|  3|\n",
      "|8213060420|  2.0|0.065266|    donnie4814|  5| 1.0|120.0|xbox|  3|\n",
      "+----------+-----+--------+--------------+---+----+-----+----+---+\n",
      "only showing top 5 rows\n",
      "\n"
     ]
    }
   ],
   "source": [
    "auctionDF4.show(5)"
   ]
  },
  {
   "cell_type": "code",
   "execution_count": 34,
   "metadata": {},
   "outputs": [
    {
     "name": "stdout",
     "output_type": "stream",
     "text": [
      "root\n",
      " |-- _c0: long (nullable = true)\n",
      " |-- _c1: double (nullable = true)\n",
      " |-- _c2: double (nullable = true)\n",
      " |-- _c3: string (nullable = true)\n",
      " |-- _c4: integer (nullable = true)\n",
      " |-- _c5: double (nullable = true)\n",
      " |-- _c6: double (nullable = true)\n",
      " |-- _c7: string (nullable = true)\n",
      " |-- _c8: integer (nullable = true)\n",
      "\n"
     ]
    }
   ],
   "source": [
    "auctionDF4.printSchema()"
   ]
  },
  {
   "cell_type": "markdown",
   "metadata": {},
   "source": [
    "Observe here, that Spark has smartly infered the most suitable data types for the columns by looking at the data."
   ]
  },
  {
   "cell_type": "markdown",
   "metadata": {},
   "source": [
    "## Load Data into SparkDF using user defined Schema"
   ]
  },
  {
   "cell_type": "code",
   "execution_count": 35,
   "metadata": {
    "collapsed": true
   },
   "outputs": [],
   "source": [
    "from pyspark.sql.types import *"
   ]
  },
  {
   "cell_type": "code",
   "execution_count": 36,
   "metadata": {
    "collapsed": true
   },
   "outputs": [],
   "source": [
    "schema = StructType([\n",
    "    StructField(\"auctionid\", StringType(), nullable=True),\n",
    "    StructField(\"bid\", FloatType(), nullable=True),\n",
    "    StructField(\"bidtime\", FloatType(), nullable=True),\n",
    "    StructField(\"bidder\", StringType(), nullable=True),\n",
    "    StructField(\"bidderrate\", IntegerType(), nullable=True),\n",
    "    StructField(\"openbid\", FloatType(), nullable=True),\n",
    "    StructField(\"price\", FloatType(), nullable=True),\n",
    "    StructField(\"item\", StringType(), nullable=True),\n",
    "    StructField(\"daystolive\", IntegerType(), nullable=True)]\n",
    ")"
   ]
  },
  {
   "cell_type": "code",
   "execution_count": 37,
   "metadata": {
    "collapsed": true
   },
   "outputs": [],
   "source": [
    "auctionDF5 = spark.read.csv(AUCTION_DATA_PATH, schema=schema)"
   ]
  },
  {
   "cell_type": "code",
   "execution_count": 38,
   "metadata": {},
   "outputs": [
    {
     "data": {
      "text/plain": [
       "pyspark.sql.dataframe.DataFrame"
      ]
     },
     "execution_count": 38,
     "metadata": {},
     "output_type": "execute_result"
    }
   ],
   "source": [
    "type(auctionDF5)"
   ]
  },
  {
   "cell_type": "code",
   "execution_count": 39,
   "metadata": {},
   "outputs": [
    {
     "data": {
      "text/plain": [
       "DataFrame[auctionid: string, bid: float, bidtime: float, bidder: string, bidderrate: int, openbid: float, price: float, item: string, daystolive: int]"
      ]
     },
     "execution_count": 39,
     "metadata": {},
     "output_type": "execute_result"
    }
   ],
   "source": [
    "auctionDF5"
   ]
  },
  {
   "cell_type": "code",
   "execution_count": 40,
   "metadata": {},
   "outputs": [
    {
     "name": "stdout",
     "output_type": "stream",
     "text": [
      "+----------+-----+--------+--------------+----------+-------+-----+----+----------+\n",
      "| auctionid|  bid| bidtime|        bidder|bidderrate|openbid|price|item|daystolive|\n",
      "+----------+-----+--------+--------------+----------+-------+-----+----+----------+\n",
      "|8213034705| 95.0|2.927373|      jake7870|         0|   95.0|117.5|xbox|         3|\n",
      "|8213034705|115.0|2.943484| davidbresler2|         1|   95.0|117.5|xbox|         3|\n",
      "|8213034705|100.0|2.951285|gladimacowgirl|        58|   95.0|117.5|xbox|         3|\n",
      "|8213034705|117.5|2.998947|       daysrus|        10|   95.0|117.5|xbox|         3|\n",
      "|8213060420|  2.0|0.065266|    donnie4814|         5|    1.0|120.0|xbox|         3|\n",
      "+----------+-----+--------+--------------+----------+-------+-----+----+----------+\n",
      "only showing top 5 rows\n",
      "\n"
     ]
    }
   ],
   "source": [
    "auctionDF5.show(5)"
   ]
  },
  {
   "cell_type": "code",
   "execution_count": 41,
   "metadata": {},
   "outputs": [
    {
     "name": "stdout",
     "output_type": "stream",
     "text": [
      "root\n",
      " |-- auctionid: string (nullable = true)\n",
      " |-- bid: float (nullable = true)\n",
      " |-- bidtime: float (nullable = true)\n",
      " |-- bidder: string (nullable = true)\n",
      " |-- bidderrate: integer (nullable = true)\n",
      " |-- openbid: float (nullable = true)\n",
      " |-- price: float (nullable = true)\n",
      " |-- item: string (nullable = true)\n",
      " |-- daystolive: integer (nullable = true)\n",
      "\n"
     ]
    }
   ],
   "source": [
    "auctionDF5.printSchema()"
   ]
  },
  {
   "cell_type": "code",
   "execution_count": 42,
   "metadata": {},
   "outputs": [
    {
     "name": "stdout",
     "output_type": "stream",
     "text": [
      "+----------+-----+--------+--------------+----------+-------+-----+----+----------+\n",
      "| auctionid|  bid| bidtime|        bidder|bidderrate|openbid|price|item|daystolive|\n",
      "+----------+-----+--------+--------------+----------+-------+-----+----+----------+\n",
      "|8213034705| 95.0|2.927373|      jake7870|         0|   95.0|117.5|xbox|         3|\n",
      "|8213034705|115.0|2.943484| davidbresler2|         1|   95.0|117.5|xbox|         3|\n",
      "|8213034705|100.0|2.951285|gladimacowgirl|        58|   95.0|117.5|xbox|         3|\n",
      "|8213034705|117.5|2.998947|       daysrus|        10|   95.0|117.5|xbox|         3|\n",
      "|8213060420|  2.0|0.065266|    donnie4814|         5|    1.0|120.0|xbox|         3|\n",
      "|8213060420|15.25|0.123218|   myreeceyboy|        52|    1.0|120.0|xbox|         3|\n",
      "|8213060420|  3.0|0.186539|  parakeet2004|         5|    1.0|120.0|xbox|         3|\n",
      "|8213060420| 10.0| 0.18669|  parakeet2004|         5|    1.0|120.0|xbox|         3|\n",
      "|8213060420|24.99|0.187049|  parakeet2004|         5|    1.0|120.0|xbox|         3|\n",
      "|8213060420| 20.0|0.249491| bluebubbles_1|        25|    1.0|120.0|xbox|         3|\n",
      "|8213060420| 22.0| 0.24956| bluebubbles_1|        25|    1.0|120.0|xbox|         3|\n",
      "|8213060420| 24.0|0.249653| bluebubbles_1|        25|    1.0|120.0|xbox|         3|\n",
      "|8213060420| 26.0|0.249757| bluebubbles_1|        25|    1.0|120.0|xbox|         3|\n",
      "|8213060420| 80.0| 0.59059|        sa4741|         3|    1.0|120.0|xbox|         3|\n",
      "|8213060420| 75.0|0.657384|     jhnsn2273|        51|    1.0|120.0|xbox|         3|\n",
      "|8213060420| 85.0|0.657917|     jhnsn2273|        51|    1.0|120.0|xbox|         3|\n",
      "|8213060420| 83.0|0.816447|        sa4741|         3|    1.0|120.0|xbox|         3|\n",
      "|8213060420|100.0|1.005903|        sa4741|         3|    1.0|120.0|xbox|         3|\n",
      "|8213060420|100.0|1.012697|     jhnsn2273|        51|    1.0|120.0|xbox|         3|\n",
      "|8213060420|110.0|1.013056|     jhnsn2273|        51|    1.0|120.0|xbox|         3|\n",
      "+----------+-----+--------+--------------+----------+-------+-----+----+----------+\n",
      "only showing top 20 rows\n",
      "\n"
     ]
    }
   ],
   "source": [
    "auctionDF5.show()"
   ]
  },
  {
   "cell_type": "code",
   "execution_count": 43,
   "metadata": {},
   "outputs": [
    {
     "name": "stdout",
     "output_type": "stream",
     "text": [
      "+-------+------------------+------------------+------------------+\n",
      "|summary|               bid|        bidderrate|        daystolive|\n",
      "+-------+------------------+------------------+------------------+\n",
      "|  count|             10654|             10654|             10654|\n",
      "|   mean|207.93610752026177| 31.98216632250798|5.9384268819222825|\n",
      "| stddev|323.36573278308225|120.67889820331808|1.5850851356670426|\n",
      "|    min|              0.01|                -4|                 3|\n",
      "|    max|            5400.0|              3140|                 7|\n",
      "+-------+------------------+------------------+------------------+\n",
      "\n"
     ]
    }
   ],
   "source": [
    "# Statistical caluclations on the DataFrame\n",
    "auctionDF5.describe(['bid', 'bidderrate', 'daystolive']).show()"
   ]
  },
  {
   "cell_type": "code",
   "execution_count": 44,
   "metadata": {},
   "outputs": [
    {
     "data": {
      "text/plain": [
       "3385"
      ]
     },
     "execution_count": 44,
     "metadata": {},
     "output_type": "execute_result"
    }
   ],
   "source": [
    "# How many unique bidders are there?\n",
    "auctionDF5.select('bidder').distinct().count()"
   ]
  },
  {
   "cell_type": "code",
   "execution_count": 45,
   "metadata": {},
   "outputs": [
    {
     "data": {
      "text/plain": [
       "[[1.9469200372695923, 4.130959987640381, 6.444029808044434]]"
      ]
     },
     "execution_count": 45,
     "metadata": {},
     "output_type": "execute_result"
    }
   ],
   "source": [
    "# calculate the 25, 50 and 75 percentile values\n",
    "auctionDF5.approxQuantile(['bidtime'], [.25, .5, .75], 0)"
   ]
  },
  {
   "cell_type": "markdown",
   "metadata": {},
   "source": [
    "## Convert a Spark Dataframe into Pandas DataFrame"
   ]
  },
  {
   "cell_type": "code",
   "execution_count": 46,
   "metadata": {
    "collapsed": true
   },
   "outputs": [],
   "source": [
    "auction_pdf = auctionDF5.toPandas()"
   ]
  },
  {
   "cell_type": "code",
   "execution_count": 47,
   "metadata": {},
   "outputs": [
    {
     "data": {
      "text/html": [
       "<div>\n",
       "<style>\n",
       "    .dataframe thead tr:only-child th {\n",
       "        text-align: right;\n",
       "    }\n",
       "\n",
       "    .dataframe thead th {\n",
       "        text-align: left;\n",
       "    }\n",
       "\n",
       "    .dataframe tbody tr th {\n",
       "        vertical-align: top;\n",
       "    }\n",
       "</style>\n",
       "<table border=\"1\" class=\"dataframe\">\n",
       "  <thead>\n",
       "    <tr style=\"text-align: right;\">\n",
       "      <th></th>\n",
       "      <th>auctionid</th>\n",
       "      <th>bid</th>\n",
       "      <th>bidtime</th>\n",
       "      <th>bidder</th>\n",
       "      <th>bidderrate</th>\n",
       "      <th>openbid</th>\n",
       "      <th>price</th>\n",
       "      <th>item</th>\n",
       "      <th>daystolive</th>\n",
       "    </tr>\n",
       "  </thead>\n",
       "  <tbody>\n",
       "    <tr>\n",
       "      <th>0</th>\n",
       "      <td>8213034705</td>\n",
       "      <td>95.0</td>\n",
       "      <td>2.927373</td>\n",
       "      <td>jake7870</td>\n",
       "      <td>0</td>\n",
       "      <td>95.0</td>\n",
       "      <td>117.5</td>\n",
       "      <td>xbox</td>\n",
       "      <td>3</td>\n",
       "    </tr>\n",
       "    <tr>\n",
       "      <th>1</th>\n",
       "      <td>8213034705</td>\n",
       "      <td>115.0</td>\n",
       "      <td>2.943484</td>\n",
       "      <td>davidbresler2</td>\n",
       "      <td>1</td>\n",
       "      <td>95.0</td>\n",
       "      <td>117.5</td>\n",
       "      <td>xbox</td>\n",
       "      <td>3</td>\n",
       "    </tr>\n",
       "    <tr>\n",
       "      <th>2</th>\n",
       "      <td>8213034705</td>\n",
       "      <td>100.0</td>\n",
       "      <td>2.951285</td>\n",
       "      <td>gladimacowgirl</td>\n",
       "      <td>58</td>\n",
       "      <td>95.0</td>\n",
       "      <td>117.5</td>\n",
       "      <td>xbox</td>\n",
       "      <td>3</td>\n",
       "    </tr>\n",
       "    <tr>\n",
       "      <th>3</th>\n",
       "      <td>8213034705</td>\n",
       "      <td>117.5</td>\n",
       "      <td>2.998947</td>\n",
       "      <td>daysrus</td>\n",
       "      <td>10</td>\n",
       "      <td>95.0</td>\n",
       "      <td>117.5</td>\n",
       "      <td>xbox</td>\n",
       "      <td>3</td>\n",
       "    </tr>\n",
       "    <tr>\n",
       "      <th>4</th>\n",
       "      <td>8213060420</td>\n",
       "      <td>2.0</td>\n",
       "      <td>0.065266</td>\n",
       "      <td>donnie4814</td>\n",
       "      <td>5</td>\n",
       "      <td>1.0</td>\n",
       "      <td>120.0</td>\n",
       "      <td>xbox</td>\n",
       "      <td>3</td>\n",
       "    </tr>\n",
       "  </tbody>\n",
       "</table>\n",
       "</div>"
      ],
      "text/plain": [
       "    auctionid    bid   bidtime          bidder  bidderrate  openbid  price  \\\n",
       "0  8213034705   95.0  2.927373        jake7870           0     95.0  117.5   \n",
       "1  8213034705  115.0  2.943484   davidbresler2           1     95.0  117.5   \n",
       "2  8213034705  100.0  2.951285  gladimacowgirl          58     95.0  117.5   \n",
       "3  8213034705  117.5  2.998947         daysrus          10     95.0  117.5   \n",
       "4  8213060420    2.0  0.065266      donnie4814           5      1.0  120.0   \n",
       "\n",
       "   item  daystolive  \n",
       "0  xbox           3  \n",
       "1  xbox           3  \n",
       "2  xbox           3  \n",
       "3  xbox           3  \n",
       "4  xbox           3  "
      ]
     },
     "execution_count": 47,
     "metadata": {},
     "output_type": "execute_result"
    }
   ],
   "source": [
    "auction_pdf.head(5)"
   ]
  },
  {
   "cell_type": "code",
   "execution_count": 48,
   "metadata": {},
   "outputs": [
    {
     "data": {
      "image/png": "[encoded data removed]",
      "text/plain": [
       "<matplotlib.figure.Figure at 0x7f11d4cd47f0>"
      ]
     },
     "metadata": {},
     "output_type": "display_data"
    }
   ],
   "source": [
    "sns.boxplot(auction_pdf['bidtime'], orient='v'); # check if it matches with the percentile values obtained from Spark DF"
   ]
  },
  {
   "cell_type": "code",
   "execution_count": 49,
   "metadata": {
    "collapsed": true
   },
   "outputs": [],
   "source": [
    "user_purchase_df = sc.textFile(\"data/user_purchase_history.csv\").map(lambda line: line.split(\",\")).map(lambda record: (record[0], record[1], record[2]))"
   ]
  },
  {
   "cell_type": "code",
   "execution_count": 50,
   "metadata": {},
   "outputs": [
    {
     "data": {
      "text/plain": [
       "5"
      ]
     },
     "execution_count": 50,
     "metadata": {},
     "output_type": "execute_result"
    }
   ],
   "source": [
    "# let's count the number of purchases\n",
    "numPurchases = user_purchase_df.count()\n",
    "numPurchases"
   ]
  },
  {
   "cell_type": "code",
   "execution_count": 51,
   "metadata": {
    "collapsed": true
   },
   "outputs": [],
   "source": [
    "# let's count how many unique users made purchases\n",
    "uniqueUsers = user_purchase_df.map(lambda record: record[0]).distinct().count()\n",
    "# let's sum up our total revenue\n",
    "totalRevenue = user_purchase_df.map(lambda record: float(record[2])).sum()\n",
    "# let's find our most popular product\n",
    "products = user_purchase_df.map(lambda record: (record[1], 1.0)).reduceByKey(lambda a, b: a + b).collect()\n",
    "mostPopular = sorted(products, key=lambda x: x[1], reverse=True)[0]"
   ]
  },
  {
   "cell_type": "code",
   "execution_count": 52,
   "metadata": {},
   "outputs": [
    {
     "name": "stdout",
     "output_type": "stream",
     "text": [
      "Total purchases: 5\n",
      "Unique users: 4\n",
      "Total revenue: 39.91\n",
      "Most popular product: iPhone Cover with 2 purchases\n"
     ]
    }
   ],
   "source": [
    "print(\"Total purchases: %d\" % numPurchases)\n",
    "print(\"Unique users: %d\" % uniqueUsers)\n",
    "print(\"Total revenue: %2.2f\" % totalRevenue)\n",
    "print(\"Most popular product: %s with %d purchases\" % (mostPopular[0], mostPopular[1]))"
   ]
  },
  {
   "cell_type": "code",
   "execution_count": 53,
   "metadata": {
    "collapsed": true
   },
   "outputs": [],
   "source": [
    "spark.stop()"
   ]
  },
  {
   "cell_type": "code",
   "execution_count": null,
   "metadata": {
    "collapsed": true
   },
   "outputs": [],
   "source": []
  }
 ],
 "metadata": {
  "kernelspec": {
   "display_name": "Python 3",
   "language": "python",
   "name": "python3"
  },
  "language_info": {
   "codemirror_mode": {
    "name": "ipython",
    "version": 3
   },
   "file_extension": ".py",
   "mimetype": "text/x-python",
   "name": "python",
   "nbconvert_exporter": "python",
   "pygments_lexer": "ipython3",
   "version": "3.5.3"
  },
  "toc": {
   "colors": {
    "hover_highlight": "#DAA520",
    "navigate_num": "#000000",
    "navigate_text": "#333333",
    "running_highlight": "#FF0000",
    "selected_highlight": "#FFD700",
    "sidebar_border": "#EEEEEE",
    "wrapper_background": "#FFFFFF"
   },
   "moveMenuLeft": true,
   "nav_menu": {
    "height": "12px",
    "width": "252px"
   },
   "navigate_menu": true,
   "number_sections": true,
   "sideBar": true,
   "threshold": 4,
   "toc_cell": false,
   "toc_section_display": "block",
   "toc_window_display": false,
   "widenNotebook": false
  }
 },
 "nbformat": 4,
 "nbformat_minor": 2
}
